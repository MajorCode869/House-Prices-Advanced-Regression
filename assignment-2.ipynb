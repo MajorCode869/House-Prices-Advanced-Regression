{
 "cells": [
  {
   "cell_type": "code",
   "execution_count": 1,
   "id": "d50c3ff2",
   "metadata": {
    "_cell_guid": "b1076dfc-b9ad-4769-8c92-a6c4dae69d19",
    "_uuid": "8f2839f25d086af736a60e9eeb907d3b93b6e0e5",
    "execution": {
     "iopub.execute_input": "2022-08-10T17:01:32.124107Z",
     "iopub.status.busy": "2022-08-10T17:01:32.123118Z",
     "iopub.status.idle": "2022-08-10T17:01:33.222036Z",
     "shell.execute_reply": "2022-08-10T17:01:33.220748Z"
    },
    "papermill": {
     "duration": 1.11526,
     "end_time": "2022-08-10T17:01:33.225221",
     "exception": false,
     "start_time": "2022-08-10T17:01:32.109961",
     "status": "completed"
    },
    "tags": []
   },
   "outputs": [
    {
     "name": "stdout",
     "output_type": "stream",
     "text": [
      "/kaggle/input/microsoft-adventure-works-cycles-customer-data/AWCustomers.csv\n",
      "/kaggle/input/microsoft-adventure-works-cycles-customer-data/AWTest-Classification.csv\n",
      "/kaggle/input/microsoft-adventure-works-cycles-customer-data/AWSales.csv\n",
      "/kaggle/input/microsoft-adventure-works-cycles-customer-data/AWTest-Regression.csv\n"
     ]
    }
   ],
   "source": [
    "# This Python 3 environment comes with many helpful analytics libraries installed\n",
    "# It is defined by the kaggle/python Docker image: https://github.com/kaggle/docker-python\n",
    "# For example, here's several helpful packages to load\n",
    "\n",
    "import numpy as np # linear algebra\n",
    "import pandas as pd # data processing, CSV file I/O (e.g. pd.read_csv)\n",
    "from sklearn.preprocessing import MinMaxScaler\n",
    "from sklearn.preprocessing import StandardScaler\n",
    "# Input data files are available in the read-only \"../input/\" directory\n",
    "# For example, running this (by clicking run or pressing Shift+Enter) will list all files under the input directory\n",
    "pd.set_option('display.max_columns', None)\n",
    "import os\n",
    "for dirname, _, filenames in os.walk('/kaggle/input'):\n",
    "    for filename in filenames:\n",
    "        print(os.path.join(dirname, filename))\n",
    "\n",
    "# You can write up to 20GB to the current directory (/kaggle/working/) that gets preserved as output when you create a version using \"Save & Run All\" \n",
    "# You can also write temporary files to /kaggle/temp/, but they won't be saved outside of the current session"
   ]
  },
  {
   "cell_type": "code",
   "execution_count": 2,
   "id": "3fa9015c",
   "metadata": {
    "execution": {
     "iopub.execute_input": "2022-08-10T17:01:33.248822Z",
     "iopub.status.busy": "2022-08-10T17:01:33.248073Z",
     "iopub.status.idle": "2022-08-10T17:01:33.409882Z",
     "shell.execute_reply": "2022-08-10T17:01:33.408605Z"
    },
    "papermill": {
     "duration": 0.176177,
     "end_time": "2022-08-10T17:01:33.412856",
     "exception": false,
     "start_time": "2022-08-10T17:01:33.236679",
     "status": "completed"
    },
    "tags": []
   },
   "outputs": [],
   "source": [
    "df_customer=pd.read_csv(\"../input/microsoft-adventure-works-cycles-customer-data/AWCustomers.csv\")\n",
    "df_sales=pd.read_csv(\"../input/microsoft-adventure-works-cycles-customer-data/AWSales.csv\")"
   ]
  },
  {
   "cell_type": "code",
   "execution_count": 3,
   "id": "58207730",
   "metadata": {
    "execution": {
     "iopub.execute_input": "2022-08-10T17:01:33.436011Z",
     "iopub.status.busy": "2022-08-10T17:01:33.435020Z",
     "iopub.status.idle": "2022-08-10T17:01:33.444661Z",
     "shell.execute_reply": "2022-08-10T17:01:33.443812Z"
    },
    "papermill": {
     "duration": 0.023191,
     "end_time": "2022-08-10T17:01:33.446811",
     "exception": false,
     "start_time": "2022-08-10T17:01:33.423620",
     "status": "completed"
    },
    "tags": []
   },
   "outputs": [
    {
     "data": {
      "text/plain": [
       "Index(['CustomerID', 'Title', 'FirstName', 'MiddleName', 'LastName', 'Suffix',\n",
       "       'AddressLine1', 'AddressLine2', 'City', 'StateProvinceName',\n",
       "       'CountryRegionName', 'PostalCode', 'PhoneNumber', 'BirthDate',\n",
       "       'Education', 'Occupation', 'Gender', 'MaritalStatus', 'HomeOwnerFlag',\n",
       "       'NumberCarsOwned', 'NumberChildrenAtHome', 'TotalChildren',\n",
       "       'YearlyIncome', 'LastUpdated'],\n",
       "      dtype='object')"
      ]
     },
     "execution_count": 3,
     "metadata": {},
     "output_type": "execute_result"
    }
   ],
   "source": [
    "df_customer.columns"
   ]
  },
  {
   "cell_type": "code",
   "execution_count": 4,
   "id": "b0efeeac",
   "metadata": {
    "execution": {
     "iopub.execute_input": "2022-08-10T17:01:33.469321Z",
     "iopub.status.busy": "2022-08-10T17:01:33.468449Z",
     "iopub.status.idle": "2022-08-10T17:01:33.475932Z",
     "shell.execute_reply": "2022-08-10T17:01:33.474838Z"
    },
    "papermill": {
     "duration": 0.021317,
     "end_time": "2022-08-10T17:01:33.478284",
     "exception": false,
     "start_time": "2022-08-10T17:01:33.456967",
     "status": "completed"
    },
    "tags": []
   },
   "outputs": [
    {
     "data": {
      "text/plain": [
       "Index(['CustomerID', 'BikeBuyer', 'AvgMonthSpend'], dtype='object')"
      ]
     },
     "execution_count": 4,
     "metadata": {},
     "output_type": "execute_result"
    }
   ],
   "source": [
    "df_sales.columns"
   ]
  },
  {
   "cell_type": "code",
   "execution_count": 5,
   "id": "08a990ed",
   "metadata": {
    "execution": {
     "iopub.execute_input": "2022-08-10T17:01:33.502182Z",
     "iopub.status.busy": "2022-08-10T17:01:33.501494Z",
     "iopub.status.idle": "2022-08-10T17:01:33.519567Z",
     "shell.execute_reply": "2022-08-10T17:01:33.518387Z"
    },
    "papermill": {
     "duration": 0.032467,
     "end_time": "2022-08-10T17:01:33.522187",
     "exception": false,
     "start_time": "2022-08-10T17:01:33.489720",
     "status": "completed"
    },
    "tags": []
   },
   "outputs": [],
   "source": [
    "df=pd.concat([df_customer,df_sales],axis=1)"
   ]
  },
  {
   "cell_type": "code",
   "execution_count": 6,
   "id": "50fa7c88",
   "metadata": {
    "execution": {
     "iopub.execute_input": "2022-08-10T17:01:33.544822Z",
     "iopub.status.busy": "2022-08-10T17:01:33.544412Z",
     "iopub.status.idle": "2022-08-10T17:01:33.551897Z",
     "shell.execute_reply": "2022-08-10T17:01:33.550759Z"
    },
    "papermill": {
     "duration": 0.021449,
     "end_time": "2022-08-10T17:01:33.554149",
     "exception": false,
     "start_time": "2022-08-10T17:01:33.532700",
     "status": "completed"
    },
    "tags": []
   },
   "outputs": [
    {
     "data": {
      "text/plain": [
       "Index(['CustomerID', 'Title', 'FirstName', 'MiddleName', 'LastName', 'Suffix',\n",
       "       'AddressLine1', 'AddressLine2', 'City', 'StateProvinceName',\n",
       "       'CountryRegionName', 'PostalCode', 'PhoneNumber', 'BirthDate',\n",
       "       'Education', 'Occupation', 'Gender', 'MaritalStatus', 'HomeOwnerFlag',\n",
       "       'NumberCarsOwned', 'NumberChildrenAtHome', 'TotalChildren',\n",
       "       'YearlyIncome', 'LastUpdated', 'CustomerID', 'BikeBuyer',\n",
       "       'AvgMonthSpend'],\n",
       "      dtype='object')"
      ]
     },
     "execution_count": 6,
     "metadata": {},
     "output_type": "execute_result"
    }
   ],
   "source": [
    "df.columns"
   ]
  },
  {
   "cell_type": "markdown",
   "id": "9b414210",
   "metadata": {
    "execution": {
     "iopub.execute_input": "2022-08-09T02:53:15.932885Z",
     "iopub.status.busy": "2022-08-09T02:53:15.931725Z",
     "iopub.status.idle": "2022-08-09T02:53:15.939873Z",
     "shell.execute_reply": "2022-08-09T02:53:15.938566Z",
     "shell.execute_reply.started": "2022-08-09T02:53:15.932830Z"
    },
    "papermill": {
     "duration": 0.01012,
     "end_time": "2022-08-10T17:01:33.574696",
     "exception": false,
     "start_time": "2022-08-10T17:01:33.564576",
     "status": "completed"
    },
    "tags": []
   },
   "source": [
    "Number of columns in the dataset is:27"
   ]
  },
  {
   "cell_type": "code",
   "execution_count": 7,
   "id": "61d58513",
   "metadata": {
    "execution": {
     "iopub.execute_input": "2022-08-10T17:01:33.597024Z",
     "iopub.status.busy": "2022-08-10T17:01:33.596636Z",
     "iopub.status.idle": "2022-08-10T17:01:33.606993Z",
     "shell.execute_reply": "2022-08-10T17:01:33.605681Z"
    },
    "papermill": {
     "duration": 0.025529,
     "end_time": "2022-08-10T17:01:33.610606",
     "exception": false,
     "start_time": "2022-08-10T17:01:33.585077",
     "status": "completed"
    },
    "tags": []
   },
   "outputs": [
    {
     "data": {
      "text/plain": [
       "27"
      ]
     },
     "execution_count": 7,
     "metadata": {},
     "output_type": "execute_result"
    }
   ],
   "source": [
    "df.shape[1]\n"
   ]
  },
  {
   "cell_type": "code",
   "execution_count": 8,
   "id": "ddab1b3e",
   "metadata": {
    "execution": {
     "iopub.execute_input": "2022-08-10T17:01:33.637480Z",
     "iopub.status.busy": "2022-08-10T17:01:33.636632Z",
     "iopub.status.idle": "2022-08-10T17:01:33.674072Z",
     "shell.execute_reply": "2022-08-10T17:01:33.673047Z"
    },
    "papermill": {
     "duration": 0.053705,
     "end_time": "2022-08-10T17:01:33.677218",
     "exception": false,
     "start_time": "2022-08-10T17:01:33.623513",
     "status": "completed"
    },
    "tags": []
   },
   "outputs": [],
   "source": [
    "df.drop(['CustomerID'],axis=1,inplace=True)"
   ]
  },
  {
   "cell_type": "code",
   "execution_count": 9,
   "id": "69a3e767",
   "metadata": {
    "execution": {
     "iopub.execute_input": "2022-08-10T17:01:33.701112Z",
     "iopub.status.busy": "2022-08-10T17:01:33.700124Z",
     "iopub.status.idle": "2022-08-10T17:01:33.729886Z",
     "shell.execute_reply": "2022-08-10T17:01:33.728608Z"
    },
    "papermill": {
     "duration": 0.044813,
     "end_time": "2022-08-10T17:01:33.733100",
     "exception": false,
     "start_time": "2022-08-10T17:01:33.688287",
     "status": "completed"
    },
    "tags": []
   },
   "outputs": [
    {
     "data": {
      "text/html": [
       "<div>\n",
       "<style scoped>\n",
       "    .dataframe tbody tr th:only-of-type {\n",
       "        vertical-align: middle;\n",
       "    }\n",
       "\n",
       "    .dataframe tbody tr th {\n",
       "        vertical-align: top;\n",
       "    }\n",
       "\n",
       "    .dataframe thead th {\n",
       "        text-align: right;\n",
       "    }\n",
       "</style>\n",
       "<table border=\"1\" class=\"dataframe\">\n",
       "  <thead>\n",
       "    <tr style=\"text-align: right;\">\n",
       "      <th></th>\n",
       "      <th>Title</th>\n",
       "      <th>FirstName</th>\n",
       "      <th>MiddleName</th>\n",
       "      <th>LastName</th>\n",
       "      <th>Suffix</th>\n",
       "      <th>AddressLine1</th>\n",
       "      <th>AddressLine2</th>\n",
       "      <th>City</th>\n",
       "      <th>StateProvinceName</th>\n",
       "      <th>CountryRegionName</th>\n",
       "      <th>PostalCode</th>\n",
       "      <th>PhoneNumber</th>\n",
       "      <th>BirthDate</th>\n",
       "      <th>Education</th>\n",
       "      <th>Occupation</th>\n",
       "      <th>Gender</th>\n",
       "      <th>MaritalStatus</th>\n",
       "      <th>HomeOwnerFlag</th>\n",
       "      <th>NumberCarsOwned</th>\n",
       "      <th>NumberChildrenAtHome</th>\n",
       "      <th>TotalChildren</th>\n",
       "      <th>YearlyIncome</th>\n",
       "      <th>LastUpdated</th>\n",
       "      <th>BikeBuyer</th>\n",
       "      <th>AvgMonthSpend</th>\n",
       "    </tr>\n",
       "  </thead>\n",
       "  <tbody>\n",
       "    <tr>\n",
       "      <th>0</th>\n",
       "      <td>NaN</td>\n",
       "      <td>Chad</td>\n",
       "      <td>C</td>\n",
       "      <td>Yuan</td>\n",
       "      <td>NaN</td>\n",
       "      <td>7090 C. Mount Hood</td>\n",
       "      <td>NaN</td>\n",
       "      <td>Wollongong</td>\n",
       "      <td>New South Wales</td>\n",
       "      <td>Australia</td>\n",
       "      <td>2500</td>\n",
       "      <td>1 (11) 500 555-0115</td>\n",
       "      <td>1987-11-13</td>\n",
       "      <td>Bachelors</td>\n",
       "      <td>Clerical</td>\n",
       "      <td>M</td>\n",
       "      <td>M</td>\n",
       "      <td>1</td>\n",
       "      <td>3</td>\n",
       "      <td>0</td>\n",
       "      <td>1</td>\n",
       "      <td>81916</td>\n",
       "      <td>2017-03-06</td>\n",
       "      <td>1.0</td>\n",
       "      <td>50.97</td>\n",
       "    </tr>\n",
       "    <tr>\n",
       "      <th>1</th>\n",
       "      <td>NaN</td>\n",
       "      <td>Ryan</td>\n",
       "      <td>NaN</td>\n",
       "      <td>Perry</td>\n",
       "      <td>NaN</td>\n",
       "      <td>3651 Willow Lake Rd</td>\n",
       "      <td>NaN</td>\n",
       "      <td>Shawnee</td>\n",
       "      <td>British Columbia</td>\n",
       "      <td>Canada</td>\n",
       "      <td>V9B 2C3</td>\n",
       "      <td>787-555-0136</td>\n",
       "      <td>1972-07-21</td>\n",
       "      <td>Partial College</td>\n",
       "      <td>Clerical</td>\n",
       "      <td>M</td>\n",
       "      <td>M</td>\n",
       "      <td>1</td>\n",
       "      <td>2</td>\n",
       "      <td>1</td>\n",
       "      <td>2</td>\n",
       "      <td>81076</td>\n",
       "      <td>2017-03-06</td>\n",
       "      <td>1.0</td>\n",
       "      <td>53.11</td>\n",
       "    </tr>\n",
       "    <tr>\n",
       "      <th>2</th>\n",
       "      <td>NaN</td>\n",
       "      <td>Julia</td>\n",
       "      <td>NaN</td>\n",
       "      <td>Thompson</td>\n",
       "      <td>NaN</td>\n",
       "      <td>1774 Tice Valley Blvd.</td>\n",
       "      <td>NaN</td>\n",
       "      <td>West Covina</td>\n",
       "      <td>California</td>\n",
       "      <td>United States</td>\n",
       "      <td>91791</td>\n",
       "      <td>120-555-0111</td>\n",
       "      <td>1985-11-09</td>\n",
       "      <td>Bachelors</td>\n",
       "      <td>Clerical</td>\n",
       "      <td>F</td>\n",
       "      <td>S</td>\n",
       "      <td>0</td>\n",
       "      <td>3</td>\n",
       "      <td>0</td>\n",
       "      <td>0</td>\n",
       "      <td>86387</td>\n",
       "      <td>2017-03-06</td>\n",
       "      <td>1.0</td>\n",
       "      <td>54.08</td>\n",
       "    </tr>\n",
       "    <tr>\n",
       "      <th>3</th>\n",
       "      <td>NaN</td>\n",
       "      <td>Theodore</td>\n",
       "      <td>NaN</td>\n",
       "      <td>Gomez</td>\n",
       "      <td>NaN</td>\n",
       "      <td>2103 Baldwin Dr</td>\n",
       "      <td>NaN</td>\n",
       "      <td>Liverpool</td>\n",
       "      <td>England</td>\n",
       "      <td>United Kingdom</td>\n",
       "      <td>L4 4HB</td>\n",
       "      <td>1 (11) 500 555-0167</td>\n",
       "      <td>1977-10-18</td>\n",
       "      <td>Partial College</td>\n",
       "      <td>Skilled Manual</td>\n",
       "      <td>M</td>\n",
       "      <td>M</td>\n",
       "      <td>1</td>\n",
       "      <td>2</td>\n",
       "      <td>1</td>\n",
       "      <td>2</td>\n",
       "      <td>61481</td>\n",
       "      <td>2017-03-06</td>\n",
       "      <td>1.0</td>\n",
       "      <td>56.93</td>\n",
       "    </tr>\n",
       "    <tr>\n",
       "      <th>4</th>\n",
       "      <td>NaN</td>\n",
       "      <td>Marshall</td>\n",
       "      <td>J</td>\n",
       "      <td>Shan</td>\n",
       "      <td>NaN</td>\n",
       "      <td>Am Gallberg 234</td>\n",
       "      <td>NaN</td>\n",
       "      <td>Werne</td>\n",
       "      <td>Nordrhein-Westfalen</td>\n",
       "      <td>Germany</td>\n",
       "      <td>59368</td>\n",
       "      <td>1 (11) 500 555-0113</td>\n",
       "      <td>1975-02-05</td>\n",
       "      <td>Partial College</td>\n",
       "      <td>Skilled Manual</td>\n",
       "      <td>M</td>\n",
       "      <td>S</td>\n",
       "      <td>1</td>\n",
       "      <td>1</td>\n",
       "      <td>0</td>\n",
       "      <td>0</td>\n",
       "      <td>51804</td>\n",
       "      <td>2017-03-06</td>\n",
       "      <td>1.0</td>\n",
       "      <td>55.41</td>\n",
       "    </tr>\n",
       "  </tbody>\n",
       "</table>\n",
       "</div>"
      ],
      "text/plain": [
       "  Title FirstName MiddleName  LastName Suffix            AddressLine1  \\\n",
       "0   NaN      Chad          C      Yuan    NaN      7090 C. Mount Hood   \n",
       "1   NaN      Ryan        NaN     Perry    NaN     3651 Willow Lake Rd   \n",
       "2   NaN     Julia        NaN  Thompson    NaN  1774 Tice Valley Blvd.   \n",
       "3   NaN  Theodore        NaN     Gomez    NaN         2103 Baldwin Dr   \n",
       "4   NaN  Marshall          J      Shan    NaN         Am Gallberg 234   \n",
       "\n",
       "  AddressLine2         City    StateProvinceName CountryRegionName PostalCode  \\\n",
       "0          NaN   Wollongong      New South Wales         Australia       2500   \n",
       "1          NaN      Shawnee     British Columbia            Canada    V9B 2C3   \n",
       "2          NaN  West Covina           California     United States      91791   \n",
       "3          NaN    Liverpool              England    United Kingdom     L4 4HB   \n",
       "4          NaN        Werne  Nordrhein-Westfalen           Germany      59368   \n",
       "\n",
       "           PhoneNumber   BirthDate        Education      Occupation Gender  \\\n",
       "0  1 (11) 500 555-0115  1987-11-13        Bachelors        Clerical      M   \n",
       "1         787-555-0136  1972-07-21  Partial College        Clerical      M   \n",
       "2         120-555-0111  1985-11-09        Bachelors        Clerical      F   \n",
       "3  1 (11) 500 555-0167  1977-10-18  Partial College  Skilled Manual      M   \n",
       "4  1 (11) 500 555-0113  1975-02-05  Partial College  Skilled Manual      M   \n",
       "\n",
       "  MaritalStatus  HomeOwnerFlag  NumberCarsOwned  NumberChildrenAtHome  \\\n",
       "0             M              1                3                     0   \n",
       "1             M              1                2                     1   \n",
       "2             S              0                3                     0   \n",
       "3             M              1                2                     1   \n",
       "4             S              1                1                     0   \n",
       "\n",
       "   TotalChildren  YearlyIncome LastUpdated  BikeBuyer  AvgMonthSpend  \n",
       "0              1         81916  2017-03-06        1.0          50.97  \n",
       "1              2         81076  2017-03-06        1.0          53.11  \n",
       "2              0         86387  2017-03-06        1.0          54.08  \n",
       "3              2         61481  2017-03-06        1.0          56.93  \n",
       "4              0         51804  2017-03-06        1.0          55.41  "
      ]
     },
     "execution_count": 9,
     "metadata": {},
     "output_type": "execute_result"
    }
   ],
   "source": [
    "df.head()"
   ]
  },
  {
   "cell_type": "code",
   "execution_count": 10,
   "id": "eafa00e1",
   "metadata": {
    "execution": {
     "iopub.execute_input": "2022-08-10T17:01:33.761099Z",
     "iopub.status.busy": "2022-08-10T17:01:33.759887Z",
     "iopub.status.idle": "2022-08-10T17:01:33.785744Z",
     "shell.execute_reply": "2022-08-10T17:01:33.784631Z"
    },
    "papermill": {
     "duration": 0.040574,
     "end_time": "2022-08-10T17:01:33.788064",
     "exception": false,
     "start_time": "2022-08-10T17:01:33.747490",
     "status": "completed"
    },
    "tags": []
   },
   "outputs": [
    {
     "data": {
      "text/html": [
       "<div>\n",
       "<style scoped>\n",
       "    .dataframe tbody tr th:only-of-type {\n",
       "        vertical-align: middle;\n",
       "    }\n",
       "\n",
       "    .dataframe tbody tr th {\n",
       "        vertical-align: top;\n",
       "    }\n",
       "\n",
       "    .dataframe thead th {\n",
       "        text-align: right;\n",
       "    }\n",
       "</style>\n",
       "<table border=\"1\" class=\"dataframe\">\n",
       "  <thead>\n",
       "    <tr style=\"text-align: right;\">\n",
       "      <th></th>\n",
       "      <th>Title</th>\n",
       "      <th>FirstName</th>\n",
       "      <th>MiddleName</th>\n",
       "      <th>LastName</th>\n",
       "      <th>Suffix</th>\n",
       "      <th>AddressLine1</th>\n",
       "      <th>AddressLine2</th>\n",
       "      <th>City</th>\n",
       "      <th>StateProvinceName</th>\n",
       "      <th>CountryRegionName</th>\n",
       "      <th>PostalCode</th>\n",
       "      <th>PhoneNumber</th>\n",
       "      <th>BirthDate</th>\n",
       "      <th>Education</th>\n",
       "      <th>Occupation</th>\n",
       "      <th>Gender</th>\n",
       "      <th>MaritalStatus</th>\n",
       "      <th>HomeOwnerFlag</th>\n",
       "      <th>NumberCarsOwned</th>\n",
       "      <th>NumberChildrenAtHome</th>\n",
       "      <th>TotalChildren</th>\n",
       "      <th>YearlyIncome</th>\n",
       "      <th>LastUpdated</th>\n",
       "      <th>BikeBuyer</th>\n",
       "      <th>AvgMonthSpend</th>\n",
       "    </tr>\n",
       "  </thead>\n",
       "  <tbody>\n",
       "    <tr>\n",
       "      <th>18356</th>\n",
       "      <td>NaN</td>\n",
       "      <td>Grace</td>\n",
       "      <td>C</td>\n",
       "      <td>Bailey</td>\n",
       "      <td>NaN</td>\n",
       "      <td>6627 Camelback Ct.</td>\n",
       "      <td>NaN</td>\n",
       "      <td>Coronado</td>\n",
       "      <td>California</td>\n",
       "      <td>United States</td>\n",
       "      <td>92118</td>\n",
       "      <td>292-555-0130</td>\n",
       "      <td>1990-11-11</td>\n",
       "      <td>Graduate Degree</td>\n",
       "      <td>Skilled Manual</td>\n",
       "      <td>F</td>\n",
       "      <td>M</td>\n",
       "      <td>0</td>\n",
       "      <td>1</td>\n",
       "      <td>0</td>\n",
       "      <td>2</td>\n",
       "      <td>52953</td>\n",
       "      <td>2017-03-06</td>\n",
       "      <td>NaN</td>\n",
       "      <td>NaN</td>\n",
       "    </tr>\n",
       "    <tr>\n",
       "      <th>18357</th>\n",
       "      <td>NaN</td>\n",
       "      <td>Tasha</td>\n",
       "      <td>NaN</td>\n",
       "      <td>Deng</td>\n",
       "      <td>NaN</td>\n",
       "      <td>9627 Kendall Rd</td>\n",
       "      <td>NaN</td>\n",
       "      <td>Port Macquarie</td>\n",
       "      <td>New South Wales</td>\n",
       "      <td>Australia</td>\n",
       "      <td>2444</td>\n",
       "      <td>1 (11) 500 555-0171</td>\n",
       "      <td>1992-10-13</td>\n",
       "      <td>Bachelors</td>\n",
       "      <td>Skilled Manual</td>\n",
       "      <td>F</td>\n",
       "      <td>S</td>\n",
       "      <td>0</td>\n",
       "      <td>2</td>\n",
       "      <td>0</td>\n",
       "      <td>0</td>\n",
       "      <td>60992</td>\n",
       "      <td>2017-03-06</td>\n",
       "      <td>NaN</td>\n",
       "      <td>NaN</td>\n",
       "    </tr>\n",
       "    <tr>\n",
       "      <th>18358</th>\n",
       "      <td>NaN</td>\n",
       "      <td>Jaclyn</td>\n",
       "      <td>NaN</td>\n",
       "      <td>Zhang</td>\n",
       "      <td>NaN</td>\n",
       "      <td>4364 Viera Avenue</td>\n",
       "      <td>NaN</td>\n",
       "      <td>Beaverton</td>\n",
       "      <td>Oregon</td>\n",
       "      <td>United States</td>\n",
       "      <td>97005</td>\n",
       "      <td>819-555-0110</td>\n",
       "      <td>1983-11-24</td>\n",
       "      <td>Partial College</td>\n",
       "      <td>Skilled Manual</td>\n",
       "      <td>F</td>\n",
       "      <td>S</td>\n",
       "      <td>0</td>\n",
       "      <td>2</td>\n",
       "      <td>0</td>\n",
       "      <td>0</td>\n",
       "      <td>51859</td>\n",
       "      <td>2017-03-06</td>\n",
       "      <td>NaN</td>\n",
       "      <td>NaN</td>\n",
       "    </tr>\n",
       "    <tr>\n",
       "      <th>18359</th>\n",
       "      <td>NaN</td>\n",
       "      <td>Erin</td>\n",
       "      <td>I</td>\n",
       "      <td>Reed</td>\n",
       "      <td>NaN</td>\n",
       "      <td>3866 Mt. Everest Court</td>\n",
       "      <td>NaN</td>\n",
       "      <td>Vancouver</td>\n",
       "      <td>British Columbia</td>\n",
       "      <td>Canada</td>\n",
       "      <td>V7L 4J4</td>\n",
       "      <td>791-555-0118</td>\n",
       "      <td>1995-06-15</td>\n",
       "      <td>High School</td>\n",
       "      <td>Clerical</td>\n",
       "      <td>F</td>\n",
       "      <td>S</td>\n",
       "      <td>0</td>\n",
       "      <td>0</td>\n",
       "      <td>0</td>\n",
       "      <td>0</td>\n",
       "      <td>87177</td>\n",
       "      <td>2017-03-06</td>\n",
       "      <td>NaN</td>\n",
       "      <td>NaN</td>\n",
       "    </tr>\n",
       "    <tr>\n",
       "      <th>18360</th>\n",
       "      <td>NaN</td>\n",
       "      <td>Amanda</td>\n",
       "      <td>NaN</td>\n",
       "      <td>Perry</td>\n",
       "      <td>NaN</td>\n",
       "      <td>7870 Orangewood Dr.</td>\n",
       "      <td>NaN</td>\n",
       "      <td>Grossmont</td>\n",
       "      <td>California</td>\n",
       "      <td>United States</td>\n",
       "      <td>91941</td>\n",
       "      <td>553-555-0122</td>\n",
       "      <td>1986-03-26</td>\n",
       "      <td>Graduate Degree</td>\n",
       "      <td>Professional</td>\n",
       "      <td>F</td>\n",
       "      <td>M</td>\n",
       "      <td>1</td>\n",
       "      <td>2</td>\n",
       "      <td>0</td>\n",
       "      <td>0</td>\n",
       "      <td>136856</td>\n",
       "      <td>2017-03-06</td>\n",
       "      <td>NaN</td>\n",
       "      <td>NaN</td>\n",
       "    </tr>\n",
       "  </tbody>\n",
       "</table>\n",
       "</div>"
      ],
      "text/plain": [
       "      Title FirstName MiddleName LastName Suffix            AddressLine1  \\\n",
       "18356   NaN     Grace          C   Bailey    NaN      6627 Camelback Ct.   \n",
       "18357   NaN     Tasha        NaN     Deng    NaN         9627 Kendall Rd   \n",
       "18358   NaN    Jaclyn        NaN    Zhang    NaN       4364 Viera Avenue   \n",
       "18359   NaN      Erin          I     Reed    NaN  3866 Mt. Everest Court   \n",
       "18360   NaN    Amanda        NaN    Perry    NaN     7870 Orangewood Dr.   \n",
       "\n",
       "      AddressLine2            City StateProvinceName CountryRegionName  \\\n",
       "18356          NaN        Coronado        California     United States   \n",
       "18357          NaN  Port Macquarie   New South Wales         Australia   \n",
       "18358          NaN       Beaverton            Oregon     United States   \n",
       "18359          NaN       Vancouver  British Columbia            Canada   \n",
       "18360          NaN       Grossmont        California     United States   \n",
       "\n",
       "      PostalCode          PhoneNumber   BirthDate        Education  \\\n",
       "18356      92118         292-555-0130  1990-11-11  Graduate Degree   \n",
       "18357       2444  1 (11) 500 555-0171  1992-10-13        Bachelors   \n",
       "18358      97005         819-555-0110  1983-11-24  Partial College   \n",
       "18359    V7L 4J4         791-555-0118  1995-06-15      High School   \n",
       "18360      91941         553-555-0122  1986-03-26  Graduate Degree   \n",
       "\n",
       "           Occupation Gender MaritalStatus  HomeOwnerFlag  NumberCarsOwned  \\\n",
       "18356  Skilled Manual      F             M              0                1   \n",
       "18357  Skilled Manual      F             S              0                2   \n",
       "18358  Skilled Manual      F             S              0                2   \n",
       "18359        Clerical      F             S              0                0   \n",
       "18360    Professional      F             M              1                2   \n",
       "\n",
       "       NumberChildrenAtHome  TotalChildren  YearlyIncome LastUpdated  \\\n",
       "18356                     0              2         52953  2017-03-06   \n",
       "18357                     0              0         60992  2017-03-06   \n",
       "18358                     0              0         51859  2017-03-06   \n",
       "18359                     0              0         87177  2017-03-06   \n",
       "18360                     0              0        136856  2017-03-06   \n",
       "\n",
       "       BikeBuyer  AvgMonthSpend  \n",
       "18356        NaN            NaN  \n",
       "18357        NaN            NaN  \n",
       "18358        NaN            NaN  \n",
       "18359        NaN            NaN  \n",
       "18360        NaN            NaN  "
      ]
     },
     "execution_count": 10,
     "metadata": {},
     "output_type": "execute_result"
    }
   ],
   "source": [
    "df.tail()"
   ]
  },
  {
   "cell_type": "code",
   "execution_count": 11,
   "id": "f329094f",
   "metadata": {
    "execution": {
     "iopub.execute_input": "2022-08-10T17:01:33.812148Z",
     "iopub.status.busy": "2022-08-10T17:01:33.811751Z",
     "iopub.status.idle": "2022-08-10T17:01:33.821776Z",
     "shell.execute_reply": "2022-08-10T17:01:33.820989Z"
    },
    "papermill": {
     "duration": 0.02448,
     "end_time": "2022-08-10T17:01:33.823869",
     "exception": false,
     "start_time": "2022-08-10T17:01:33.799389",
     "status": "completed"
    },
    "tags": []
   },
   "outputs": [],
   "source": [
    "df.drop(['Title','FirstName','MiddleName','LastName','Suffix','AddressLine2'],axis=1,inplace=True)"
   ]
  },
  {
   "cell_type": "code",
   "execution_count": 12,
   "id": "4aa32bec",
   "metadata": {
    "execution": {
     "iopub.execute_input": "2022-08-10T17:01:33.848489Z",
     "iopub.status.busy": "2022-08-10T17:01:33.847456Z",
     "iopub.status.idle": "2022-08-10T17:01:33.857181Z",
     "shell.execute_reply": "2022-08-10T17:01:33.856388Z"
    },
    "papermill": {
     "duration": 0.024296,
     "end_time": "2022-08-10T17:01:33.859490",
     "exception": false,
     "start_time": "2022-08-10T17:01:33.835194",
     "status": "completed"
    },
    "tags": []
   },
   "outputs": [],
   "source": [
    "df.drop(['PhoneNumber'],axis=1,inplace=True)"
   ]
  },
  {
   "cell_type": "code",
   "execution_count": 13,
   "id": "62a55f47",
   "metadata": {
    "execution": {
     "iopub.execute_input": "2022-08-10T17:01:33.884433Z",
     "iopub.status.busy": "2022-08-10T17:01:33.883708Z",
     "iopub.status.idle": "2022-08-10T17:01:33.891741Z",
     "shell.execute_reply": "2022-08-10T17:01:33.890873Z"
    },
    "papermill": {
     "duration": 0.023172,
     "end_time": "2022-08-10T17:01:33.894036",
     "exception": false,
     "start_time": "2022-08-10T17:01:33.870864",
     "status": "completed"
    },
    "tags": []
   },
   "outputs": [],
   "source": [
    "df.drop(['PostalCode'],axis=1,inplace=True)"
   ]
  },
  {
   "cell_type": "code",
   "execution_count": 14,
   "id": "aaea9eb7",
   "metadata": {
    "execution": {
     "iopub.execute_input": "2022-08-10T17:01:33.918499Z",
     "iopub.status.busy": "2022-08-10T17:01:33.918072Z",
     "iopub.status.idle": "2022-08-10T17:01:33.924485Z",
     "shell.execute_reply": "2022-08-10T17:01:33.923454Z"
    },
    "papermill": {
     "duration": 0.021265,
     "end_time": "2022-08-10T17:01:33.926634",
     "exception": false,
     "start_time": "2022-08-10T17:01:33.905369",
     "status": "completed"
    },
    "tags": []
   },
   "outputs": [
    {
     "data": {
      "text/plain": [
       "(17,)"
      ]
     },
     "execution_count": 14,
     "metadata": {},
     "output_type": "execute_result"
    }
   ],
   "source": [
    "df.columns.shape"
   ]
  },
  {
   "cell_type": "code",
   "execution_count": 15,
   "id": "6c3a2001",
   "metadata": {
    "execution": {
     "iopub.execute_input": "2022-08-10T17:01:33.951383Z",
     "iopub.status.busy": "2022-08-10T17:01:33.950379Z",
     "iopub.status.idle": "2022-08-10T17:01:33.986670Z",
     "shell.execute_reply": "2022-08-10T17:01:33.985747Z"
    },
    "papermill": {
     "duration": 0.05089,
     "end_time": "2022-08-10T17:01:33.988806",
     "exception": false,
     "start_time": "2022-08-10T17:01:33.937916",
     "status": "completed"
    },
    "tags": []
   },
   "outputs": [
    {
     "data": {
      "text/html": [
       "<div>\n",
       "<style scoped>\n",
       "    .dataframe tbody tr th:only-of-type {\n",
       "        vertical-align: middle;\n",
       "    }\n",
       "\n",
       "    .dataframe tbody tr th {\n",
       "        vertical-align: top;\n",
       "    }\n",
       "\n",
       "    .dataframe thead th {\n",
       "        text-align: right;\n",
       "    }\n",
       "</style>\n",
       "<table border=\"1\" class=\"dataframe\">\n",
       "  <thead>\n",
       "    <tr style=\"text-align: right;\">\n",
       "      <th></th>\n",
       "      <th>HomeOwnerFlag</th>\n",
       "      <th>NumberCarsOwned</th>\n",
       "      <th>NumberChildrenAtHome</th>\n",
       "      <th>TotalChildren</th>\n",
       "      <th>YearlyIncome</th>\n",
       "      <th>BikeBuyer</th>\n",
       "      <th>AvgMonthSpend</th>\n",
       "    </tr>\n",
       "  </thead>\n",
       "  <tbody>\n",
       "    <tr>\n",
       "      <th>count</th>\n",
       "      <td>18361.000000</td>\n",
       "      <td>18361.000000</td>\n",
       "      <td>18361.000000</td>\n",
       "      <td>18361.000000</td>\n",
       "      <td>18361.000000</td>\n",
       "      <td>18355.00000</td>\n",
       "      <td>18355.000000</td>\n",
       "    </tr>\n",
       "    <tr>\n",
       "      <th>mean</th>\n",
       "      <td>0.610588</td>\n",
       "      <td>1.270301</td>\n",
       "      <td>0.338162</td>\n",
       "      <td>0.850389</td>\n",
       "      <td>72754.779642</td>\n",
       "      <td>0.55173</td>\n",
       "      <td>51.767207</td>\n",
       "    </tr>\n",
       "    <tr>\n",
       "      <th>std</th>\n",
       "      <td>0.487630</td>\n",
       "      <td>0.913989</td>\n",
       "      <td>0.568957</td>\n",
       "      <td>0.927315</td>\n",
       "      <td>30686.014313</td>\n",
       "      <td>0.49733</td>\n",
       "      <td>3.438024</td>\n",
       "    </tr>\n",
       "    <tr>\n",
       "      <th>min</th>\n",
       "      <td>0.000000</td>\n",
       "      <td>0.000000</td>\n",
       "      <td>0.000000</td>\n",
       "      <td>0.000000</td>\n",
       "      <td>25435.000000</td>\n",
       "      <td>0.00000</td>\n",
       "      <td>44.100000</td>\n",
       "    </tr>\n",
       "    <tr>\n",
       "      <th>25%</th>\n",
       "      <td>0.000000</td>\n",
       "      <td>1.000000</td>\n",
       "      <td>0.000000</td>\n",
       "      <td>0.000000</td>\n",
       "      <td>53312.000000</td>\n",
       "      <td>0.00000</td>\n",
       "      <td>49.410000</td>\n",
       "    </tr>\n",
       "    <tr>\n",
       "      <th>50%</th>\n",
       "      <td>1.000000</td>\n",
       "      <td>1.000000</td>\n",
       "      <td>0.000000</td>\n",
       "      <td>0.000000</td>\n",
       "      <td>61851.000000</td>\n",
       "      <td>1.00000</td>\n",
       "      <td>51.420000</td>\n",
       "    </tr>\n",
       "    <tr>\n",
       "      <th>75%</th>\n",
       "      <td>1.000000</td>\n",
       "      <td>2.000000</td>\n",
       "      <td>1.000000</td>\n",
       "      <td>2.000000</td>\n",
       "      <td>87410.000000</td>\n",
       "      <td>1.00000</td>\n",
       "      <td>53.600000</td>\n",
       "    </tr>\n",
       "    <tr>\n",
       "      <th>max</th>\n",
       "      <td>1.000000</td>\n",
       "      <td>5.000000</td>\n",
       "      <td>3.000000</td>\n",
       "      <td>3.000000</td>\n",
       "      <td>139115.000000</td>\n",
       "      <td>1.00000</td>\n",
       "      <td>65.290000</td>\n",
       "    </tr>\n",
       "  </tbody>\n",
       "</table>\n",
       "</div>"
      ],
      "text/plain": [
       "       HomeOwnerFlag  NumberCarsOwned  NumberChildrenAtHome  TotalChildren  \\\n",
       "count   18361.000000     18361.000000          18361.000000   18361.000000   \n",
       "mean        0.610588         1.270301              0.338162       0.850389   \n",
       "std         0.487630         0.913989              0.568957       0.927315   \n",
       "min         0.000000         0.000000              0.000000       0.000000   \n",
       "25%         0.000000         1.000000              0.000000       0.000000   \n",
       "50%         1.000000         1.000000              0.000000       0.000000   \n",
       "75%         1.000000         2.000000              1.000000       2.000000   \n",
       "max         1.000000         5.000000              3.000000       3.000000   \n",
       "\n",
       "        YearlyIncome    BikeBuyer  AvgMonthSpend  \n",
       "count   18361.000000  18355.00000   18355.000000  \n",
       "mean    72754.779642      0.55173      51.767207  \n",
       "std     30686.014313      0.49733       3.438024  \n",
       "min     25435.000000      0.00000      44.100000  \n",
       "25%     53312.000000      0.00000      49.410000  \n",
       "50%     61851.000000      1.00000      51.420000  \n",
       "75%     87410.000000      1.00000      53.600000  \n",
       "max    139115.000000      1.00000      65.290000  "
      ]
     },
     "execution_count": 15,
     "metadata": {},
     "output_type": "execute_result"
    }
   ],
   "source": [
    "df.describe()"
   ]
  },
  {
   "cell_type": "code",
   "execution_count": 16,
   "id": "f5514aa8",
   "metadata": {
    "execution": {
     "iopub.execute_input": "2022-08-10T17:01:34.014256Z",
     "iopub.status.busy": "2022-08-10T17:01:34.013524Z",
     "iopub.status.idle": "2022-08-10T17:01:34.039177Z",
     "shell.execute_reply": "2022-08-10T17:01:34.037431Z"
    },
    "papermill": {
     "duration": 0.04135,
     "end_time": "2022-08-10T17:01:34.041775",
     "exception": false,
     "start_time": "2022-08-10T17:01:34.000425",
     "status": "completed"
    },
    "tags": []
   },
   "outputs": [
    {
     "name": "stdout",
     "output_type": "stream",
     "text": [
      "<class 'pandas.core.frame.DataFrame'>\n",
      "RangeIndex: 18361 entries, 0 to 18360\n",
      "Data columns (total 17 columns):\n",
      " #   Column                Non-Null Count  Dtype  \n",
      "---  ------                --------------  -----  \n",
      " 0   AddressLine1          18361 non-null  object \n",
      " 1   City                  18361 non-null  object \n",
      " 2   StateProvinceName     18361 non-null  object \n",
      " 3   CountryRegionName     18361 non-null  object \n",
      " 4   BirthDate             18361 non-null  object \n",
      " 5   Education             18361 non-null  object \n",
      " 6   Occupation            18361 non-null  object \n",
      " 7   Gender                18361 non-null  object \n",
      " 8   MaritalStatus         18361 non-null  object \n",
      " 9   HomeOwnerFlag         18361 non-null  int64  \n",
      " 10  NumberCarsOwned       18361 non-null  int64  \n",
      " 11  NumberChildrenAtHome  18361 non-null  int64  \n",
      " 12  TotalChildren         18361 non-null  int64  \n",
      " 13  YearlyIncome          18361 non-null  int64  \n",
      " 14  LastUpdated           18361 non-null  object \n",
      " 15  BikeBuyer             18355 non-null  float64\n",
      " 16  AvgMonthSpend         18355 non-null  float64\n",
      "dtypes: float64(2), int64(5), object(10)\n",
      "memory usage: 2.4+ MB\n"
     ]
    }
   ],
   "source": [
    "df.info()"
   ]
  },
  {
   "cell_type": "code",
   "execution_count": 17,
   "id": "68a6cc0a",
   "metadata": {
    "execution": {
     "iopub.execute_input": "2022-08-10T17:01:34.068297Z",
     "iopub.status.busy": "2022-08-10T17:01:34.067585Z",
     "iopub.status.idle": "2022-08-10T17:01:34.081204Z",
     "shell.execute_reply": "2022-08-10T17:01:34.079788Z"
    },
    "papermill": {
     "duration": 0.030121,
     "end_time": "2022-08-10T17:01:34.083941",
     "exception": false,
     "start_time": "2022-08-10T17:01:34.053820",
     "status": "completed"
    },
    "tags": []
   },
   "outputs": [],
   "source": [
    "df.BirthDate=pd.to_datetime(df.BirthDate)\n"
   ]
  },
  {
   "cell_type": "code",
   "execution_count": 18,
   "id": "f1892ee6",
   "metadata": {
    "execution": {
     "iopub.execute_input": "2022-08-10T17:01:34.109971Z",
     "iopub.status.busy": "2022-08-10T17:01:34.109160Z",
     "iopub.status.idle": "2022-08-10T17:01:34.118200Z",
     "shell.execute_reply": "2022-08-10T17:01:34.117324Z"
    },
    "papermill": {
     "duration": 0.024499,
     "end_time": "2022-08-10T17:01:34.120422",
     "exception": false,
     "start_time": "2022-08-10T17:01:34.095923",
     "status": "completed"
    },
    "tags": []
   },
   "outputs": [
    {
     "data": {
      "text/plain": [
       "0       1987-11-13\n",
       "1       1972-07-21\n",
       "2       1985-11-09\n",
       "3       1977-10-18\n",
       "4       1975-02-05\n",
       "           ...    \n",
       "18356   1990-11-11\n",
       "18357   1992-10-13\n",
       "18358   1983-11-24\n",
       "18359   1995-06-15\n",
       "18360   1986-03-26\n",
       "Name: BirthDate, Length: 18361, dtype: datetime64[ns]"
      ]
     },
     "execution_count": 18,
     "metadata": {},
     "output_type": "execute_result"
    }
   ],
   "source": [
    "df.BirthDate"
   ]
  },
  {
   "cell_type": "code",
   "execution_count": 19,
   "id": "d0989f05",
   "metadata": {
    "execution": {
     "iopub.execute_input": "2022-08-10T17:01:34.149911Z",
     "iopub.status.busy": "2022-08-10T17:01:34.149042Z",
     "iopub.status.idle": "2022-08-10T17:01:34.161292Z",
     "shell.execute_reply": "2022-08-10T17:01:34.160409Z"
    },
    "papermill": {
     "duration": 0.029654,
     "end_time": "2022-08-10T17:01:34.163853",
     "exception": false,
     "start_time": "2022-08-10T17:01:34.134199",
     "status": "completed"
    },
    "tags": []
   },
   "outputs": [],
   "source": [
    "df.LastUpdated=pd.to_datetime(df.LastUpdated)"
   ]
  },
  {
   "cell_type": "code",
   "execution_count": 20,
   "id": "49805941",
   "metadata": {
    "execution": {
     "iopub.execute_input": "2022-08-10T17:01:34.191285Z",
     "iopub.status.busy": "2022-08-10T17:01:34.190900Z",
     "iopub.status.idle": "2022-08-10T17:01:34.215866Z",
     "shell.execute_reply": "2022-08-10T17:01:34.214320Z"
    },
    "papermill": {
     "duration": 0.041324,
     "end_time": "2022-08-10T17:01:34.218900",
     "exception": false,
     "start_time": "2022-08-10T17:01:34.177576",
     "status": "completed"
    },
    "tags": []
   },
   "outputs": [
    {
     "name": "stdout",
     "output_type": "stream",
     "text": [
      "<class 'pandas.core.frame.DataFrame'>\n",
      "RangeIndex: 18361 entries, 0 to 18360\n",
      "Data columns (total 17 columns):\n",
      " #   Column                Non-Null Count  Dtype         \n",
      "---  ------                --------------  -----         \n",
      " 0   AddressLine1          18361 non-null  object        \n",
      " 1   City                  18361 non-null  object        \n",
      " 2   StateProvinceName     18361 non-null  object        \n",
      " 3   CountryRegionName     18361 non-null  object        \n",
      " 4   BirthDate             18361 non-null  datetime64[ns]\n",
      " 5   Education             18361 non-null  object        \n",
      " 6   Occupation            18361 non-null  object        \n",
      " 7   Gender                18361 non-null  object        \n",
      " 8   MaritalStatus         18361 non-null  object        \n",
      " 9   HomeOwnerFlag         18361 non-null  int64         \n",
      " 10  NumberCarsOwned       18361 non-null  int64         \n",
      " 11  NumberChildrenAtHome  18361 non-null  int64         \n",
      " 12  TotalChildren         18361 non-null  int64         \n",
      " 13  YearlyIncome          18361 non-null  int64         \n",
      " 14  LastUpdated           18361 non-null  datetime64[ns]\n",
      " 15  BikeBuyer             18355 non-null  float64       \n",
      " 16  AvgMonthSpend         18355 non-null  float64       \n",
      "dtypes: datetime64[ns](2), float64(2), int64(5), object(8)\n",
      "memory usage: 2.4+ MB\n"
     ]
    }
   ],
   "source": [
    "df.info()"
   ]
  },
  {
   "cell_type": "code",
   "execution_count": 21,
   "id": "c50c2a48",
   "metadata": {
    "execution": {
     "iopub.execute_input": "2022-08-10T17:01:34.245816Z",
     "iopub.status.busy": "2022-08-10T17:01:34.244743Z",
     "iopub.status.idle": "2022-08-10T17:01:34.251279Z",
     "shell.execute_reply": "2022-08-10T17:01:34.250330Z"
    },
    "papermill": {
     "duration": 0.022138,
     "end_time": "2022-08-10T17:01:34.253438",
     "exception": false,
     "start_time": "2022-08-10T17:01:34.231300",
     "status": "completed"
    },
    "tags": []
   },
   "outputs": [],
   "source": [
    "var_cat=[]\n",
    "var_num=[]\n",
    "for c in df.columns:\n",
    "    if df[c].dtype=='object':\n",
    "        var_cat.append(c)\n",
    "    if (df[c].dtype=='int64'or df[c].dtype=='float64'):\n",
    "         var_num.append(c)\n",
    "            \n",
    "        \n",
    " \n",
    "    "
   ]
  },
  {
   "cell_type": "code",
   "execution_count": 22,
   "id": "61d5c507",
   "metadata": {
    "execution": {
     "iopub.execute_input": "2022-08-10T17:01:34.279814Z",
     "iopub.status.busy": "2022-08-10T17:01:34.278774Z",
     "iopub.status.idle": "2022-08-10T17:01:34.284350Z",
     "shell.execute_reply": "2022-08-10T17:01:34.283062Z"
    },
    "papermill": {
     "duration": 0.021015,
     "end_time": "2022-08-10T17:01:34.286498",
     "exception": false,
     "start_time": "2022-08-10T17:01:34.265483",
     "status": "completed"
    },
    "tags": []
   },
   "outputs": [
    {
     "name": "stdout",
     "output_type": "stream",
     "text": [
      "Categorical Variables:  ['AddressLine1', 'City', 'StateProvinceName', 'CountryRegionName', 'Education', 'Occupation', 'Gender', 'MaritalStatus']\n"
     ]
    }
   ],
   "source": [
    "print(\"Categorical Variables: \",var_cat)\n"
   ]
  },
  {
   "cell_type": "code",
   "execution_count": 23,
   "id": "e191da39",
   "metadata": {
    "execution": {
     "iopub.execute_input": "2022-08-10T17:01:34.312343Z",
     "iopub.status.busy": "2022-08-10T17:01:34.311918Z",
     "iopub.status.idle": "2022-08-10T17:01:34.331647Z",
     "shell.execute_reply": "2022-08-10T17:01:34.330671Z"
    },
    "papermill": {
     "duration": 0.035524,
     "end_time": "2022-08-10T17:01:34.334117",
     "exception": false,
     "start_time": "2022-08-10T17:01:34.298593",
     "status": "completed"
    },
    "tags": []
   },
   "outputs": [],
   "source": [
    "cat_ordinal=[]\n",
    "cat_nominal=[]\n",
    "for c in var_cat:\n",
    "    if (df[c].nunique()) >5:\n",
    "        cat_nominal.append(c)\n",
    "    else:\n",
    "        cat_ordinal.append(c)\n"
   ]
  },
  {
   "cell_type": "code",
   "execution_count": 24,
   "id": "18f119ef",
   "metadata": {
    "execution": {
     "iopub.execute_input": "2022-08-10T17:01:34.360886Z",
     "iopub.status.busy": "2022-08-10T17:01:34.360309Z",
     "iopub.status.idle": "2022-08-10T17:01:34.365606Z",
     "shell.execute_reply": "2022-08-10T17:01:34.364671Z"
    },
    "papermill": {
     "duration": 0.021172,
     "end_time": "2022-08-10T17:01:34.367684",
     "exception": false,
     "start_time": "2022-08-10T17:01:34.346512",
     "status": "completed"
    },
    "tags": []
   },
   "outputs": [
    {
     "data": {
      "text/plain": [
       "['AddressLine1', 'City', 'StateProvinceName', 'CountryRegionName']"
      ]
     },
     "execution_count": 24,
     "metadata": {},
     "output_type": "execute_result"
    }
   ],
   "source": [
    "cat_nominal\n"
   ]
  },
  {
   "cell_type": "code",
   "execution_count": 25,
   "id": "abd83e2d",
   "metadata": {
    "execution": {
     "iopub.execute_input": "2022-08-10T17:01:34.394771Z",
     "iopub.status.busy": "2022-08-10T17:01:34.394144Z",
     "iopub.status.idle": "2022-08-10T17:01:34.399571Z",
     "shell.execute_reply": "2022-08-10T17:01:34.398706Z"
    },
    "papermill": {
     "duration": 0.021393,
     "end_time": "2022-08-10T17:01:34.401726",
     "exception": false,
     "start_time": "2022-08-10T17:01:34.380333",
     "status": "completed"
    },
    "tags": []
   },
   "outputs": [
    {
     "data": {
      "text/plain": [
       "['Education', 'Occupation', 'Gender', 'MaritalStatus']"
      ]
     },
     "execution_count": 25,
     "metadata": {},
     "output_type": "execute_result"
    }
   ],
   "source": [
    "cat_ordinal"
   ]
  },
  {
   "cell_type": "markdown",
   "id": "47474687",
   "metadata": {
    "papermill": {
     "duration": 0.011794,
     "end_time": "2022-08-10T17:01:34.425704",
     "exception": false,
     "start_time": "2022-08-10T17:01:34.413910",
     "status": "completed"
    },
    "tags": []
   },
   "source": [
    "Education is truly ordinal, Occupation should be in nominal and Gender,MaritalStatus can be OHE"
   ]
  },
  {
   "cell_type": "code",
   "execution_count": 26,
   "id": "64e18a8a",
   "metadata": {
    "execution": {
     "iopub.execute_input": "2022-08-10T17:01:34.451773Z",
     "iopub.status.busy": "2022-08-10T17:01:34.451111Z",
     "iopub.status.idle": "2022-08-10T17:01:34.460349Z",
     "shell.execute_reply": "2022-08-10T17:01:34.459437Z"
    },
    "papermill": {
     "duration": 0.025037,
     "end_time": "2022-08-10T17:01:34.462685",
     "exception": false,
     "start_time": "2022-08-10T17:01:34.437648",
     "status": "completed"
    },
    "tags": []
   },
   "outputs": [],
   "source": [
    "num_discrete=[]\n",
    "num_continuous=[]\n",
    "for c in var_num:\n",
    "    if (df[c].nunique()) >10:\n",
    "        num_continuous.append(c)\n",
    "    else:\n",
    "        num_discrete.append(c)"
   ]
  },
  {
   "cell_type": "code",
   "execution_count": 27,
   "id": "80ae069b",
   "metadata": {
    "execution": {
     "iopub.execute_input": "2022-08-10T17:01:34.489738Z",
     "iopub.status.busy": "2022-08-10T17:01:34.489108Z",
     "iopub.status.idle": "2022-08-10T17:01:34.494823Z",
     "shell.execute_reply": "2022-08-10T17:01:34.493742Z"
    },
    "papermill": {
     "duration": 0.022201,
     "end_time": "2022-08-10T17:01:34.496969",
     "exception": false,
     "start_time": "2022-08-10T17:01:34.474768",
     "status": "completed"
    },
    "tags": []
   },
   "outputs": [
    {
     "data": {
      "text/plain": [
       "['HomeOwnerFlag',\n",
       " 'NumberCarsOwned',\n",
       " 'NumberChildrenAtHome',\n",
       " 'TotalChildren',\n",
       " 'BikeBuyer']"
      ]
     },
     "execution_count": 27,
     "metadata": {},
     "output_type": "execute_result"
    }
   ],
   "source": [
    "num_discrete"
   ]
  },
  {
   "cell_type": "code",
   "execution_count": 28,
   "id": "0dfc5a3f",
   "metadata": {
    "execution": {
     "iopub.execute_input": "2022-08-10T17:01:34.523274Z",
     "iopub.status.busy": "2022-08-10T17:01:34.522673Z",
     "iopub.status.idle": "2022-08-10T17:01:34.528004Z",
     "shell.execute_reply": "2022-08-10T17:01:34.527290Z"
    },
    "papermill": {
     "duration": 0.020933,
     "end_time": "2022-08-10T17:01:34.530165",
     "exception": false,
     "start_time": "2022-08-10T17:01:34.509232",
     "status": "completed"
    },
    "tags": []
   },
   "outputs": [
    {
     "data": {
      "text/plain": [
       "['YearlyIncome', 'AvgMonthSpend']"
      ]
     },
     "execution_count": 28,
     "metadata": {},
     "output_type": "execute_result"
    }
   ],
   "source": [
    "num_continuous\n"
   ]
  },
  {
   "cell_type": "code",
   "execution_count": 29,
   "id": "4a00e0d5",
   "metadata": {
    "execution": {
     "iopub.execute_input": "2022-08-10T17:01:34.556997Z",
     "iopub.status.busy": "2022-08-10T17:01:34.556291Z",
     "iopub.status.idle": "2022-08-10T17:01:34.575693Z",
     "shell.execute_reply": "2022-08-10T17:01:34.573916Z"
    },
    "papermill": {
     "duration": 0.037033,
     "end_time": "2022-08-10T17:01:34.579632",
     "exception": false,
     "start_time": "2022-08-10T17:01:34.542599",
     "status": "completed"
    },
    "tags": []
   },
   "outputs": [
    {
     "name": "stdout",
     "output_type": "stream",
     "text": [
      "<class 'pandas.core.frame.DataFrame'>\n",
      "RangeIndex: 18361 entries, 0 to 18360\n",
      "Data columns (total 17 columns):\n",
      " #   Column                Non-Null Count  Dtype         \n",
      "---  ------                --------------  -----         \n",
      " 0   AddressLine1          18361 non-null  object        \n",
      " 1   City                  18361 non-null  object        \n",
      " 2   StateProvinceName     18361 non-null  object        \n",
      " 3   CountryRegionName     18361 non-null  object        \n",
      " 4   BirthDate             18361 non-null  datetime64[ns]\n",
      " 5   Education             18361 non-null  object        \n",
      " 6   Occupation            18361 non-null  object        \n",
      " 7   Gender                18361 non-null  object        \n",
      " 8   MaritalStatus         18361 non-null  object        \n",
      " 9   HomeOwnerFlag         18361 non-null  int64         \n",
      " 10  NumberCarsOwned       18361 non-null  int64         \n",
      " 11  NumberChildrenAtHome  18361 non-null  int64         \n",
      " 12  TotalChildren         18361 non-null  int64         \n",
      " 13  YearlyIncome          18361 non-null  int64         \n",
      " 14  LastUpdated           18361 non-null  datetime64[ns]\n",
      " 15  BikeBuyer             18355 non-null  float64       \n",
      " 16  AvgMonthSpend         18355 non-null  float64       \n",
      "dtypes: datetime64[ns](2), float64(2), int64(5), object(8)\n",
      "memory usage: 2.4+ MB\n"
     ]
    }
   ],
   "source": [
    "df.info()"
   ]
  },
  {
   "cell_type": "markdown",
   "id": "2ee73311",
   "metadata": {
    "papermill": {
     "duration": 0.011791,
     "end_time": "2022-08-10T17:01:34.604282",
     "exception": false,
     "start_time": "2022-08-10T17:01:34.592491",
     "status": "completed"
    },
    "tags": []
   },
   "source": [
    "BirthDate and Last Updated are datetime features"
   ]
  },
  {
   "cell_type": "code",
   "execution_count": 30,
   "id": "997e1745",
   "metadata": {
    "execution": {
     "iopub.execute_input": "2022-08-10T17:01:34.630758Z",
     "iopub.status.busy": "2022-08-10T17:01:34.630077Z",
     "iopub.status.idle": "2022-08-10T17:01:34.638473Z",
     "shell.execute_reply": "2022-08-10T17:01:34.637542Z"
    },
    "papermill": {
     "duration": 0.023864,
     "end_time": "2022-08-10T17:01:34.640487",
     "exception": false,
     "start_time": "2022-08-10T17:01:34.616623",
     "status": "completed"
    },
    "tags": []
   },
   "outputs": [
    {
     "data": {
      "text/plain": [
       "(18361, 17)"
      ]
     },
     "execution_count": 30,
     "metadata": {},
     "output_type": "execute_result"
    }
   ],
   "source": [
    "df.shape"
   ]
  },
  {
   "cell_type": "code",
   "execution_count": 31,
   "id": "83d84a69",
   "metadata": {
    "execution": {
     "iopub.execute_input": "2022-08-10T17:01:34.667346Z",
     "iopub.status.busy": "2022-08-10T17:01:34.666491Z",
     "iopub.status.idle": "2022-08-10T17:01:34.682470Z",
     "shell.execute_reply": "2022-08-10T17:01:34.681588Z"
    },
    "papermill": {
     "duration": 0.031628,
     "end_time": "2022-08-10T17:01:34.684502",
     "exception": false,
     "start_time": "2022-08-10T17:01:34.652874",
     "status": "completed"
    },
    "tags": []
   },
   "outputs": [
    {
     "data": {
      "text/plain": [
       "AddressLine1            0\n",
       "City                    0\n",
       "StateProvinceName       0\n",
       "CountryRegionName       0\n",
       "BirthDate               0\n",
       "Education               0\n",
       "Occupation              0\n",
       "Gender                  0\n",
       "MaritalStatus           0\n",
       "HomeOwnerFlag           0\n",
       "NumberCarsOwned         0\n",
       "NumberChildrenAtHome    0\n",
       "TotalChildren           0\n",
       "YearlyIncome            0\n",
       "LastUpdated             0\n",
       "BikeBuyer               6\n",
       "AvgMonthSpend           6\n",
       "dtype: int64"
      ]
     },
     "execution_count": 31,
     "metadata": {},
     "output_type": "execute_result"
    }
   ],
   "source": [
    "df.isnull().sum()"
   ]
  },
  {
   "cell_type": "code",
   "execution_count": 32,
   "id": "e08fa65f",
   "metadata": {
    "execution": {
     "iopub.execute_input": "2022-08-10T17:01:34.711045Z",
     "iopub.status.busy": "2022-08-10T17:01:34.710372Z",
     "iopub.status.idle": "2022-08-10T17:01:34.731443Z",
     "shell.execute_reply": "2022-08-10T17:01:34.730653Z"
    },
    "papermill": {
     "duration": 0.036611,
     "end_time": "2022-08-10T17:01:34.733459",
     "exception": false,
     "start_time": "2022-08-10T17:01:34.696848",
     "status": "completed"
    },
    "tags": []
   },
   "outputs": [
    {
     "data": {
      "text/html": [
       "<div>\n",
       "<style scoped>\n",
       "    .dataframe tbody tr th:only-of-type {\n",
       "        vertical-align: middle;\n",
       "    }\n",
       "\n",
       "    .dataframe tbody tr th {\n",
       "        vertical-align: top;\n",
       "    }\n",
       "\n",
       "    .dataframe thead th {\n",
       "        text-align: right;\n",
       "    }\n",
       "</style>\n",
       "<table border=\"1\" class=\"dataframe\">\n",
       "  <thead>\n",
       "    <tr style=\"text-align: right;\">\n",
       "      <th></th>\n",
       "      <th>AddressLine1</th>\n",
       "      <th>City</th>\n",
       "      <th>StateProvinceName</th>\n",
       "      <th>CountryRegionName</th>\n",
       "      <th>BirthDate</th>\n",
       "      <th>Education</th>\n",
       "      <th>Occupation</th>\n",
       "      <th>Gender</th>\n",
       "      <th>MaritalStatus</th>\n",
       "      <th>HomeOwnerFlag</th>\n",
       "      <th>NumberCarsOwned</th>\n",
       "      <th>NumberChildrenAtHome</th>\n",
       "      <th>TotalChildren</th>\n",
       "      <th>YearlyIncome</th>\n",
       "      <th>LastUpdated</th>\n",
       "      <th>BikeBuyer</th>\n",
       "      <th>AvgMonthSpend</th>\n",
       "    </tr>\n",
       "  </thead>\n",
       "  <tbody>\n",
       "    <tr>\n",
       "      <th>18355</th>\n",
       "      <td>8527 Rock Oak Road</td>\n",
       "      <td>Melton</td>\n",
       "      <td>Victoria</td>\n",
       "      <td>Australia</td>\n",
       "      <td>1967-08-20</td>\n",
       "      <td>High School</td>\n",
       "      <td>Manual</td>\n",
       "      <td>M</td>\n",
       "      <td>M</td>\n",
       "      <td>1</td>\n",
       "      <td>1</td>\n",
       "      <td>1</td>\n",
       "      <td>2</td>\n",
       "      <td>30442</td>\n",
       "      <td>2017-03-06</td>\n",
       "      <td>NaN</td>\n",
       "      <td>NaN</td>\n",
       "    </tr>\n",
       "    <tr>\n",
       "      <th>18356</th>\n",
       "      <td>6627 Camelback Ct.</td>\n",
       "      <td>Coronado</td>\n",
       "      <td>California</td>\n",
       "      <td>United States</td>\n",
       "      <td>1990-11-11</td>\n",
       "      <td>Graduate Degree</td>\n",
       "      <td>Skilled Manual</td>\n",
       "      <td>F</td>\n",
       "      <td>M</td>\n",
       "      <td>0</td>\n",
       "      <td>1</td>\n",
       "      <td>0</td>\n",
       "      <td>2</td>\n",
       "      <td>52953</td>\n",
       "      <td>2017-03-06</td>\n",
       "      <td>NaN</td>\n",
       "      <td>NaN</td>\n",
       "    </tr>\n",
       "    <tr>\n",
       "      <th>18357</th>\n",
       "      <td>9627 Kendall Rd</td>\n",
       "      <td>Port Macquarie</td>\n",
       "      <td>New South Wales</td>\n",
       "      <td>Australia</td>\n",
       "      <td>1992-10-13</td>\n",
       "      <td>Bachelors</td>\n",
       "      <td>Skilled Manual</td>\n",
       "      <td>F</td>\n",
       "      <td>S</td>\n",
       "      <td>0</td>\n",
       "      <td>2</td>\n",
       "      <td>0</td>\n",
       "      <td>0</td>\n",
       "      <td>60992</td>\n",
       "      <td>2017-03-06</td>\n",
       "      <td>NaN</td>\n",
       "      <td>NaN</td>\n",
       "    </tr>\n",
       "    <tr>\n",
       "      <th>18358</th>\n",
       "      <td>4364 Viera Avenue</td>\n",
       "      <td>Beaverton</td>\n",
       "      <td>Oregon</td>\n",
       "      <td>United States</td>\n",
       "      <td>1983-11-24</td>\n",
       "      <td>Partial College</td>\n",
       "      <td>Skilled Manual</td>\n",
       "      <td>F</td>\n",
       "      <td>S</td>\n",
       "      <td>0</td>\n",
       "      <td>2</td>\n",
       "      <td>0</td>\n",
       "      <td>0</td>\n",
       "      <td>51859</td>\n",
       "      <td>2017-03-06</td>\n",
       "      <td>NaN</td>\n",
       "      <td>NaN</td>\n",
       "    </tr>\n",
       "    <tr>\n",
       "      <th>18359</th>\n",
       "      <td>3866 Mt. Everest Court</td>\n",
       "      <td>Vancouver</td>\n",
       "      <td>British Columbia</td>\n",
       "      <td>Canada</td>\n",
       "      <td>1995-06-15</td>\n",
       "      <td>High School</td>\n",
       "      <td>Clerical</td>\n",
       "      <td>F</td>\n",
       "      <td>S</td>\n",
       "      <td>0</td>\n",
       "      <td>0</td>\n",
       "      <td>0</td>\n",
       "      <td>0</td>\n",
       "      <td>87177</td>\n",
       "      <td>2017-03-06</td>\n",
       "      <td>NaN</td>\n",
       "      <td>NaN</td>\n",
       "    </tr>\n",
       "    <tr>\n",
       "      <th>18360</th>\n",
       "      <td>7870 Orangewood Dr.</td>\n",
       "      <td>Grossmont</td>\n",
       "      <td>California</td>\n",
       "      <td>United States</td>\n",
       "      <td>1986-03-26</td>\n",
       "      <td>Graduate Degree</td>\n",
       "      <td>Professional</td>\n",
       "      <td>F</td>\n",
       "      <td>M</td>\n",
       "      <td>1</td>\n",
       "      <td>2</td>\n",
       "      <td>0</td>\n",
       "      <td>0</td>\n",
       "      <td>136856</td>\n",
       "      <td>2017-03-06</td>\n",
       "      <td>NaN</td>\n",
       "      <td>NaN</td>\n",
       "    </tr>\n",
       "  </tbody>\n",
       "</table>\n",
       "</div>"
      ],
      "text/plain": [
       "                 AddressLine1            City StateProvinceName  \\\n",
       "18355      8527 Rock Oak Road          Melton          Victoria   \n",
       "18356      6627 Camelback Ct.        Coronado        California   \n",
       "18357         9627 Kendall Rd  Port Macquarie   New South Wales   \n",
       "18358       4364 Viera Avenue       Beaverton            Oregon   \n",
       "18359  3866 Mt. Everest Court       Vancouver  British Columbia   \n",
       "18360     7870 Orangewood Dr.       Grossmont        California   \n",
       "\n",
       "      CountryRegionName  BirthDate        Education      Occupation Gender  \\\n",
       "18355         Australia 1967-08-20      High School          Manual      M   \n",
       "18356     United States 1990-11-11  Graduate Degree  Skilled Manual      F   \n",
       "18357         Australia 1992-10-13        Bachelors  Skilled Manual      F   \n",
       "18358     United States 1983-11-24  Partial College  Skilled Manual      F   \n",
       "18359            Canada 1995-06-15      High School        Clerical      F   \n",
       "18360     United States 1986-03-26  Graduate Degree    Professional      F   \n",
       "\n",
       "      MaritalStatus  HomeOwnerFlag  NumberCarsOwned  NumberChildrenAtHome  \\\n",
       "18355             M              1                1                     1   \n",
       "18356             M              0                1                     0   \n",
       "18357             S              0                2                     0   \n",
       "18358             S              0                2                     0   \n",
       "18359             S              0                0                     0   \n",
       "18360             M              1                2                     0   \n",
       "\n",
       "       TotalChildren  YearlyIncome LastUpdated  BikeBuyer  AvgMonthSpend  \n",
       "18355              2         30442  2017-03-06        NaN            NaN  \n",
       "18356              2         52953  2017-03-06        NaN            NaN  \n",
       "18357              0         60992  2017-03-06        NaN            NaN  \n",
       "18358              0         51859  2017-03-06        NaN            NaN  \n",
       "18359              0         87177  2017-03-06        NaN            NaN  \n",
       "18360              0        136856  2017-03-06        NaN            NaN  "
      ]
     },
     "execution_count": 32,
     "metadata": {},
     "output_type": "execute_result"
    }
   ],
   "source": [
    "df[df['BikeBuyer'].isnull()]"
   ]
  },
  {
   "cell_type": "code",
   "execution_count": 33,
   "id": "28fc0f45",
   "metadata": {
    "execution": {
     "iopub.execute_input": "2022-08-10T17:01:34.761562Z",
     "iopub.status.busy": "2022-08-10T17:01:34.760842Z",
     "iopub.status.idle": "2022-08-10T17:01:34.777173Z",
     "shell.execute_reply": "2022-08-10T17:01:34.776330Z"
    },
    "papermill": {
     "duration": 0.032912,
     "end_time": "2022-08-10T17:01:34.779518",
     "exception": false,
     "start_time": "2022-08-10T17:01:34.746606",
     "status": "completed"
    },
    "tags": []
   },
   "outputs": [
    {
     "data": {
      "text/plain": [
       "AddressLine1            0.000000\n",
       "City                    0.000000\n",
       "StateProvinceName       0.000000\n",
       "CountryRegionName       0.000000\n",
       "BirthDate               0.000000\n",
       "Education               0.000000\n",
       "Occupation              0.000000\n",
       "Gender                  0.000000\n",
       "MaritalStatus           0.000000\n",
       "HomeOwnerFlag           0.000000\n",
       "NumberCarsOwned         0.000000\n",
       "NumberChildrenAtHome    0.000000\n",
       "TotalChildren           0.000000\n",
       "YearlyIncome            0.000000\n",
       "LastUpdated             0.000000\n",
       "BikeBuyer               0.032678\n",
       "AvgMonthSpend           0.032678\n",
       "dtype: float64"
      ]
     },
     "execution_count": 33,
     "metadata": {},
     "output_type": "execute_result"
    }
   ],
   "source": [
    "(df.isnull().sum()/df.shape[0])*100"
   ]
  },
  {
   "cell_type": "markdown",
   "id": "db9e3656",
   "metadata": {
    "papermill": {
     "duration": 0.013016,
     "end_time": "2022-08-10T17:01:34.806081",
     "exception": false,
     "start_time": "2022-08-10T17:01:34.793065",
     "status": "completed"
    },
    "tags": []
   },
   "source": [
    "As the null values are less than 20%, we can safely remove them.\n"
   ]
  },
  {
   "cell_type": "code",
   "execution_count": 34,
   "id": "2bb159ea",
   "metadata": {
    "execution": {
     "iopub.execute_input": "2022-08-10T17:01:34.834435Z",
     "iopub.status.busy": "2022-08-10T17:01:34.833768Z",
     "iopub.status.idle": "2022-08-10T17:01:34.843168Z",
     "shell.execute_reply": "2022-08-10T17:01:34.842381Z"
    },
    "papermill": {
     "duration": 0.026064,
     "end_time": "2022-08-10T17:01:34.845357",
     "exception": false,
     "start_time": "2022-08-10T17:01:34.819293",
     "status": "completed"
    },
    "tags": []
   },
   "outputs": [],
   "source": [
    "df.drop(index=df[df['BikeBuyer'].isnull()].index,axis=0,inplace=True)"
   ]
  },
  {
   "cell_type": "code",
   "execution_count": 35,
   "id": "36caa281",
   "metadata": {
    "execution": {
     "iopub.execute_input": "2022-08-10T17:01:34.873371Z",
     "iopub.status.busy": "2022-08-10T17:01:34.872665Z",
     "iopub.status.idle": "2022-08-10T17:01:34.888281Z",
     "shell.execute_reply": "2022-08-10T17:01:34.887177Z"
    },
    "papermill": {
     "duration": 0.032143,
     "end_time": "2022-08-10T17:01:34.890490",
     "exception": false,
     "start_time": "2022-08-10T17:01:34.858347",
     "status": "completed"
    },
    "tags": []
   },
   "outputs": [
    {
     "data": {
      "text/plain": [
       "AddressLine1            0\n",
       "City                    0\n",
       "StateProvinceName       0\n",
       "CountryRegionName       0\n",
       "BirthDate               0\n",
       "Education               0\n",
       "Occupation              0\n",
       "Gender                  0\n",
       "MaritalStatus           0\n",
       "HomeOwnerFlag           0\n",
       "NumberCarsOwned         0\n",
       "NumberChildrenAtHome    0\n",
       "TotalChildren           0\n",
       "YearlyIncome            0\n",
       "LastUpdated             0\n",
       "BikeBuyer               0\n",
       "AvgMonthSpend           0\n",
       "dtype: int64"
      ]
     },
     "execution_count": 35,
     "metadata": {},
     "output_type": "execute_result"
    }
   ],
   "source": [
    "df.isnull().sum()"
   ]
  },
  {
   "cell_type": "code",
   "execution_count": 36,
   "id": "37aaf720",
   "metadata": {
    "execution": {
     "iopub.execute_input": "2022-08-10T17:01:34.918536Z",
     "iopub.status.busy": "2022-08-10T17:01:34.917839Z",
     "iopub.status.idle": "2022-08-10T17:01:34.923320Z",
     "shell.execute_reply": "2022-08-10T17:01:34.922512Z"
    },
    "papermill": {
     "duration": 0.021869,
     "end_time": "2022-08-10T17:01:34.925502",
     "exception": false,
     "start_time": "2022-08-10T17:01:34.903633",
     "status": "completed"
    },
    "tags": []
   },
   "outputs": [
    {
     "data": {
      "text/plain": [
       "['YearlyIncome', 'AvgMonthSpend']"
      ]
     },
     "execution_count": 36,
     "metadata": {},
     "output_type": "execute_result"
    }
   ],
   "source": [
    "num_continuous"
   ]
  },
  {
   "cell_type": "code",
   "execution_count": 37,
   "id": "d085bd55",
   "metadata": {
    "execution": {
     "iopub.execute_input": "2022-08-10T17:01:34.954054Z",
     "iopub.status.busy": "2022-08-10T17:01:34.953454Z",
     "iopub.status.idle": "2022-08-10T17:01:34.963703Z",
     "shell.execute_reply": "2022-08-10T17:01:34.962829Z"
    },
    "papermill": {
     "duration": 0.027304,
     "end_time": "2022-08-10T17:01:34.966075",
     "exception": false,
     "start_time": "2022-08-10T17:01:34.938771",
     "status": "completed"
    },
    "tags": []
   },
   "outputs": [],
   "source": [
    "# Normalizing by min max scaler\n",
    "scaler=MinMaxScaler()\n",
    "df[['YearlyIncome_normalized','AvgMonthSpend_normalized']]=scaler.fit_transform(df[num_continuous])"
   ]
  },
  {
   "cell_type": "code",
   "execution_count": 38,
   "id": "8a49372b",
   "metadata": {
    "execution": {
     "iopub.execute_input": "2022-08-10T17:01:34.994936Z",
     "iopub.status.busy": "2022-08-10T17:01:34.994351Z",
     "iopub.status.idle": "2022-08-10T17:01:35.005268Z",
     "shell.execute_reply": "2022-08-10T17:01:35.004418Z"
    },
    "papermill": {
     "duration": 0.028139,
     "end_time": "2022-08-10T17:01:35.007685",
     "exception": false,
     "start_time": "2022-08-10T17:01:34.979546",
     "status": "completed"
    },
    "tags": []
   },
   "outputs": [],
   "source": [
    "# Normalizing by Z score\n",
    "stdscaler=StandardScaler()\n",
    "\n",
    "df[['YearlyIncome_std','AvgMonthSpend_std']]=stdscaler.fit_transform(df[num_continuous])"
   ]
  },
  {
   "cell_type": "code",
   "execution_count": 39,
   "id": "7dd8165c",
   "metadata": {
    "execution": {
     "iopub.execute_input": "2022-08-10T17:01:35.036456Z",
     "iopub.status.busy": "2022-08-10T17:01:35.035858Z",
     "iopub.status.idle": "2022-08-10T17:01:35.043208Z",
     "shell.execute_reply": "2022-08-10T17:01:35.042350Z"
    },
    "papermill": {
     "duration": 0.024388,
     "end_time": "2022-08-10T17:01:35.045445",
     "exception": false,
     "start_time": "2022-08-10T17:01:35.021057",
     "status": "completed"
    },
    "tags": []
   },
   "outputs": [],
   "source": [
    "df['male']=pd.get_dummies(df['Gender'],drop_first=True)"
   ]
  },
  {
   "cell_type": "code",
   "execution_count": 40,
   "id": "5e75dd0d",
   "metadata": {
    "execution": {
     "iopub.execute_input": "2022-08-10T17:01:35.074096Z",
     "iopub.status.busy": "2022-08-10T17:01:35.073517Z",
     "iopub.status.idle": "2022-08-10T17:01:35.080896Z",
     "shell.execute_reply": "2022-08-10T17:01:35.079818Z"
    },
    "papermill": {
     "duration": 0.024147,
     "end_time": "2022-08-10T17:01:35.082977",
     "exception": false,
     "start_time": "2022-08-10T17:01:35.058830",
     "status": "completed"
    },
    "tags": []
   },
   "outputs": [],
   "source": [
    "df['Single']=pd.get_dummies(df['MaritalStatus'],drop_first=True)"
   ]
  },
  {
   "cell_type": "code",
   "execution_count": 41,
   "id": "8c1820c5",
   "metadata": {
    "execution": {
     "iopub.execute_input": "2022-08-10T17:01:35.111461Z",
     "iopub.status.busy": "2022-08-10T17:01:35.110842Z",
     "iopub.status.idle": "2022-08-10T17:01:35.142531Z",
     "shell.execute_reply": "2022-08-10T17:01:35.141758Z"
    },
    "papermill": {
     "duration": 0.048568,
     "end_time": "2022-08-10T17:01:35.144699",
     "exception": false,
     "start_time": "2022-08-10T17:01:35.096131",
     "status": "completed"
    },
    "tags": []
   },
   "outputs": [
    {
     "data": {
      "text/html": [
       "<div>\n",
       "<style scoped>\n",
       "    .dataframe tbody tr th:only-of-type {\n",
       "        vertical-align: middle;\n",
       "    }\n",
       "\n",
       "    .dataframe tbody tr th {\n",
       "        vertical-align: top;\n",
       "    }\n",
       "\n",
       "    .dataframe thead th {\n",
       "        text-align: right;\n",
       "    }\n",
       "</style>\n",
       "<table border=\"1\" class=\"dataframe\">\n",
       "  <thead>\n",
       "    <tr style=\"text-align: right;\">\n",
       "      <th></th>\n",
       "      <th>AddressLine1</th>\n",
       "      <th>City</th>\n",
       "      <th>StateProvinceName</th>\n",
       "      <th>CountryRegionName</th>\n",
       "      <th>BirthDate</th>\n",
       "      <th>Education</th>\n",
       "      <th>Occupation</th>\n",
       "      <th>Gender</th>\n",
       "      <th>MaritalStatus</th>\n",
       "      <th>HomeOwnerFlag</th>\n",
       "      <th>NumberCarsOwned</th>\n",
       "      <th>NumberChildrenAtHome</th>\n",
       "      <th>TotalChildren</th>\n",
       "      <th>YearlyIncome</th>\n",
       "      <th>LastUpdated</th>\n",
       "      <th>BikeBuyer</th>\n",
       "      <th>AvgMonthSpend</th>\n",
       "      <th>YearlyIncome_normalized</th>\n",
       "      <th>AvgMonthSpend_normalized</th>\n",
       "      <th>YearlyIncome_std</th>\n",
       "      <th>AvgMonthSpend_std</th>\n",
       "      <th>male</th>\n",
       "      <th>Single</th>\n",
       "    </tr>\n",
       "  </thead>\n",
       "  <tbody>\n",
       "    <tr>\n",
       "      <th>0</th>\n",
       "      <td>7090 C. Mount Hood</td>\n",
       "      <td>Wollongong</td>\n",
       "      <td>New South Wales</td>\n",
       "      <td>Australia</td>\n",
       "      <td>1987-11-13</td>\n",
       "      <td>Bachelors</td>\n",
       "      <td>Clerical</td>\n",
       "      <td>M</td>\n",
       "      <td>M</td>\n",
       "      <td>1</td>\n",
       "      <td>3</td>\n",
       "      <td>0</td>\n",
       "      <td>1</td>\n",
       "      <td>81916</td>\n",
       "      <td>2017-03-06</td>\n",
       "      <td>1.0</td>\n",
       "      <td>50.97</td>\n",
       "      <td>0.496842</td>\n",
       "      <td>0.324210</td>\n",
       "      <td>0.298539</td>\n",
       "      <td>-0.231886</td>\n",
       "      <td>1</td>\n",
       "      <td>0</td>\n",
       "    </tr>\n",
       "    <tr>\n",
       "      <th>1</th>\n",
       "      <td>3651 Willow Lake Rd</td>\n",
       "      <td>Shawnee</td>\n",
       "      <td>British Columbia</td>\n",
       "      <td>Canada</td>\n",
       "      <td>1972-07-21</td>\n",
       "      <td>Partial College</td>\n",
       "      <td>Clerical</td>\n",
       "      <td>M</td>\n",
       "      <td>M</td>\n",
       "      <td>1</td>\n",
       "      <td>2</td>\n",
       "      <td>1</td>\n",
       "      <td>2</td>\n",
       "      <td>81076</td>\n",
       "      <td>2017-03-06</td>\n",
       "      <td>1.0</td>\n",
       "      <td>53.11</td>\n",
       "      <td>0.489453</td>\n",
       "      <td>0.425201</td>\n",
       "      <td>0.271163</td>\n",
       "      <td>0.390582</td>\n",
       "      <td>1</td>\n",
       "      <td>0</td>\n",
       "    </tr>\n",
       "    <tr>\n",
       "      <th>2</th>\n",
       "      <td>1774 Tice Valley Blvd.</td>\n",
       "      <td>West Covina</td>\n",
       "      <td>California</td>\n",
       "      <td>United States</td>\n",
       "      <td>1985-11-09</td>\n",
       "      <td>Bachelors</td>\n",
       "      <td>Clerical</td>\n",
       "      <td>F</td>\n",
       "      <td>S</td>\n",
       "      <td>0</td>\n",
       "      <td>3</td>\n",
       "      <td>0</td>\n",
       "      <td>0</td>\n",
       "      <td>86387</td>\n",
       "      <td>2017-03-06</td>\n",
       "      <td>1.0</td>\n",
       "      <td>54.08</td>\n",
       "      <td>0.536172</td>\n",
       "      <td>0.470977</td>\n",
       "      <td>0.444250</td>\n",
       "      <td>0.672728</td>\n",
       "      <td>0</td>\n",
       "      <td>1</td>\n",
       "    </tr>\n",
       "    <tr>\n",
       "      <th>3</th>\n",
       "      <td>2103 Baldwin Dr</td>\n",
       "      <td>Liverpool</td>\n",
       "      <td>England</td>\n",
       "      <td>United Kingdom</td>\n",
       "      <td>1977-10-18</td>\n",
       "      <td>Partial College</td>\n",
       "      <td>Skilled Manual</td>\n",
       "      <td>M</td>\n",
       "      <td>M</td>\n",
       "      <td>1</td>\n",
       "      <td>2</td>\n",
       "      <td>1</td>\n",
       "      <td>2</td>\n",
       "      <td>61481</td>\n",
       "      <td>2017-03-06</td>\n",
       "      <td>1.0</td>\n",
       "      <td>56.93</td>\n",
       "      <td>0.317083</td>\n",
       "      <td>0.605474</td>\n",
       "      <td>-0.367445</td>\n",
       "      <td>1.501715</td>\n",
       "      <td>1</td>\n",
       "      <td>0</td>\n",
       "    </tr>\n",
       "    <tr>\n",
       "      <th>4</th>\n",
       "      <td>Am Gallberg 234</td>\n",
       "      <td>Werne</td>\n",
       "      <td>Nordrhein-Westfalen</td>\n",
       "      <td>Germany</td>\n",
       "      <td>1975-02-05</td>\n",
       "      <td>Partial College</td>\n",
       "      <td>Skilled Manual</td>\n",
       "      <td>M</td>\n",
       "      <td>S</td>\n",
       "      <td>1</td>\n",
       "      <td>1</td>\n",
       "      <td>0</td>\n",
       "      <td>0</td>\n",
       "      <td>51804</td>\n",
       "      <td>2017-03-06</td>\n",
       "      <td>1.0</td>\n",
       "      <td>55.41</td>\n",
       "      <td>0.231958</td>\n",
       "      <td>0.533742</td>\n",
       "      <td>-0.682822</td>\n",
       "      <td>1.059589</td>\n",
       "      <td>1</td>\n",
       "      <td>1</td>\n",
       "    </tr>\n",
       "    <tr>\n",
       "      <th>...</th>\n",
       "      <td>...</td>\n",
       "      <td>...</td>\n",
       "      <td>...</td>\n",
       "      <td>...</td>\n",
       "      <td>...</td>\n",
       "      <td>...</td>\n",
       "      <td>...</td>\n",
       "      <td>...</td>\n",
       "      <td>...</td>\n",
       "      <td>...</td>\n",
       "      <td>...</td>\n",
       "      <td>...</td>\n",
       "      <td>...</td>\n",
       "      <td>...</td>\n",
       "      <td>...</td>\n",
       "      <td>...</td>\n",
       "      <td>...</td>\n",
       "      <td>...</td>\n",
       "      <td>...</td>\n",
       "      <td>...</td>\n",
       "      <td>...</td>\n",
       "      <td>...</td>\n",
       "      <td>...</td>\n",
       "    </tr>\n",
       "    <tr>\n",
       "      <th>18350</th>\n",
       "      <td>3469 Relief Valley Ct.</td>\n",
       "      <td>Royal Oak</td>\n",
       "      <td>British Columbia</td>\n",
       "      <td>Canada</td>\n",
       "      <td>1960-09-06</td>\n",
       "      <td>Bachelors</td>\n",
       "      <td>Clerical</td>\n",
       "      <td>F</td>\n",
       "      <td>M</td>\n",
       "      <td>1</td>\n",
       "      <td>1</td>\n",
       "      <td>0</td>\n",
       "      <td>2</td>\n",
       "      <td>87320</td>\n",
       "      <td>2017-03-06</td>\n",
       "      <td>0.0</td>\n",
       "      <td>48.14</td>\n",
       "      <td>0.544379</td>\n",
       "      <td>0.190656</td>\n",
       "      <td>0.474657</td>\n",
       "      <td>-1.055055</td>\n",
       "      <td>0</td>\n",
       "      <td>0</td>\n",
       "    </tr>\n",
       "    <tr>\n",
       "      <th>18351</th>\n",
       "      <td>6126 North Sixth Street</td>\n",
       "      <td>Redmond</td>\n",
       "      <td>Washington</td>\n",
       "      <td>United States</td>\n",
       "      <td>1986-08-15</td>\n",
       "      <td>Graduate Degree</td>\n",
       "      <td>Clerical</td>\n",
       "      <td>F</td>\n",
       "      <td>S</td>\n",
       "      <td>0</td>\n",
       "      <td>1</td>\n",
       "      <td>0</td>\n",
       "      <td>0</td>\n",
       "      <td>84374</td>\n",
       "      <td>2017-03-06</td>\n",
       "      <td>1.0</td>\n",
       "      <td>50.23</td>\n",
       "      <td>0.518464</td>\n",
       "      <td>0.289287</td>\n",
       "      <td>0.378646</td>\n",
       "      <td>-0.447131</td>\n",
       "      <td>0</td>\n",
       "      <td>1</td>\n",
       "    </tr>\n",
       "    <tr>\n",
       "      <th>18352</th>\n",
       "      <td>7182 Olive Hill</td>\n",
       "      <td>Cliffside</td>\n",
       "      <td>British Columbia</td>\n",
       "      <td>Canada</td>\n",
       "      <td>1986-11-14</td>\n",
       "      <td>Graduate Degree</td>\n",
       "      <td>Skilled Manual</td>\n",
       "      <td>F</td>\n",
       "      <td>S</td>\n",
       "      <td>0</td>\n",
       "      <td>0</td>\n",
       "      <td>0</td>\n",
       "      <td>0</td>\n",
       "      <td>50961</td>\n",
       "      <td>2017-03-06</td>\n",
       "      <td>1.0</td>\n",
       "      <td>49.56</td>\n",
       "      <td>0.224543</td>\n",
       "      <td>0.257669</td>\n",
       "      <td>-0.710296</td>\n",
       "      <td>-0.642016</td>\n",
       "      <td>0</td>\n",
       "      <td>1</td>\n",
       "    </tr>\n",
       "    <tr>\n",
       "      <th>18353</th>\n",
       "      <td>487, rue Montcalm</td>\n",
       "      <td>Les Ulis</td>\n",
       "      <td>Essonne</td>\n",
       "      <td>France</td>\n",
       "      <td>1983-02-05</td>\n",
       "      <td>Partial High School</td>\n",
       "      <td>Manual</td>\n",
       "      <td>F</td>\n",
       "      <td>S</td>\n",
       "      <td>0</td>\n",
       "      <td>1</td>\n",
       "      <td>0</td>\n",
       "      <td>0</td>\n",
       "      <td>33678</td>\n",
       "      <td>2017-03-06</td>\n",
       "      <td>0.0</td>\n",
       "      <td>51.42</td>\n",
       "      <td>0.072511</td>\n",
       "      <td>0.345446</td>\n",
       "      <td>-1.273555</td>\n",
       "      <td>-0.100993</td>\n",
       "      <td>0</td>\n",
       "      <td>1</td>\n",
       "    </tr>\n",
       "    <tr>\n",
       "      <th>18354</th>\n",
       "      <td>4346 Via Rerrari</td>\n",
       "      <td>Downey</td>\n",
       "      <td>California</td>\n",
       "      <td>United States</td>\n",
       "      <td>1980-10-08</td>\n",
       "      <td>Partial College</td>\n",
       "      <td>Manual</td>\n",
       "      <td>F</td>\n",
       "      <td>M</td>\n",
       "      <td>1</td>\n",
       "      <td>0</td>\n",
       "      <td>1</td>\n",
       "      <td>2</td>\n",
       "      <td>29758</td>\n",
       "      <td>2017-03-06</td>\n",
       "      <td>1.0</td>\n",
       "      <td>52.27</td>\n",
       "      <td>0.038028</td>\n",
       "      <td>0.385559</td>\n",
       "      <td>-1.401310</td>\n",
       "      <td>0.146249</td>\n",
       "      <td>0</td>\n",
       "      <td>0</td>\n",
       "    </tr>\n",
       "  </tbody>\n",
       "</table>\n",
       "<p>18355 rows × 23 columns</p>\n",
       "</div>"
      ],
      "text/plain": [
       "                  AddressLine1         City    StateProvinceName  \\\n",
       "0           7090 C. Mount Hood   Wollongong      New South Wales   \n",
       "1          3651 Willow Lake Rd      Shawnee     British Columbia   \n",
       "2       1774 Tice Valley Blvd.  West Covina           California   \n",
       "3              2103 Baldwin Dr    Liverpool              England   \n",
       "4              Am Gallberg 234        Werne  Nordrhein-Westfalen   \n",
       "...                        ...          ...                  ...   \n",
       "18350   3469 Relief Valley Ct.    Royal Oak     British Columbia   \n",
       "18351  6126 North Sixth Street      Redmond           Washington   \n",
       "18352          7182 Olive Hill    Cliffside     British Columbia   \n",
       "18353        487, rue Montcalm     Les Ulis              Essonne   \n",
       "18354         4346 Via Rerrari       Downey           California   \n",
       "\n",
       "      CountryRegionName  BirthDate            Education      Occupation  \\\n",
       "0             Australia 1987-11-13            Bachelors        Clerical   \n",
       "1                Canada 1972-07-21      Partial College        Clerical   \n",
       "2         United States 1985-11-09            Bachelors        Clerical   \n",
       "3        United Kingdom 1977-10-18      Partial College  Skilled Manual   \n",
       "4               Germany 1975-02-05      Partial College  Skilled Manual   \n",
       "...                 ...        ...                  ...             ...   \n",
       "18350            Canada 1960-09-06            Bachelors        Clerical   \n",
       "18351     United States 1986-08-15      Graduate Degree        Clerical   \n",
       "18352            Canada 1986-11-14      Graduate Degree  Skilled Manual   \n",
       "18353            France 1983-02-05  Partial High School          Manual   \n",
       "18354     United States 1980-10-08      Partial College          Manual   \n",
       "\n",
       "      Gender MaritalStatus  HomeOwnerFlag  NumberCarsOwned  \\\n",
       "0          M             M              1                3   \n",
       "1          M             M              1                2   \n",
       "2          F             S              0                3   \n",
       "3          M             M              1                2   \n",
       "4          M             S              1                1   \n",
       "...      ...           ...            ...              ...   \n",
       "18350      F             M              1                1   \n",
       "18351      F             S              0                1   \n",
       "18352      F             S              0                0   \n",
       "18353      F             S              0                1   \n",
       "18354      F             M              1                0   \n",
       "\n",
       "       NumberChildrenAtHome  TotalChildren  YearlyIncome LastUpdated  \\\n",
       "0                         0              1         81916  2017-03-06   \n",
       "1                         1              2         81076  2017-03-06   \n",
       "2                         0              0         86387  2017-03-06   \n",
       "3                         1              2         61481  2017-03-06   \n",
       "4                         0              0         51804  2017-03-06   \n",
       "...                     ...            ...           ...         ...   \n",
       "18350                     0              2         87320  2017-03-06   \n",
       "18351                     0              0         84374  2017-03-06   \n",
       "18352                     0              0         50961  2017-03-06   \n",
       "18353                     0              0         33678  2017-03-06   \n",
       "18354                     1              2         29758  2017-03-06   \n",
       "\n",
       "       BikeBuyer  AvgMonthSpend  YearlyIncome_normalized  \\\n",
       "0            1.0          50.97                 0.496842   \n",
       "1            1.0          53.11                 0.489453   \n",
       "2            1.0          54.08                 0.536172   \n",
       "3            1.0          56.93                 0.317083   \n",
       "4            1.0          55.41                 0.231958   \n",
       "...          ...            ...                      ...   \n",
       "18350        0.0          48.14                 0.544379   \n",
       "18351        1.0          50.23                 0.518464   \n",
       "18352        1.0          49.56                 0.224543   \n",
       "18353        0.0          51.42                 0.072511   \n",
       "18354        1.0          52.27                 0.038028   \n",
       "\n",
       "       AvgMonthSpend_normalized  YearlyIncome_std  AvgMonthSpend_std  male  \\\n",
       "0                      0.324210          0.298539          -0.231886     1   \n",
       "1                      0.425201          0.271163           0.390582     1   \n",
       "2                      0.470977          0.444250           0.672728     0   \n",
       "3                      0.605474         -0.367445           1.501715     1   \n",
       "4                      0.533742         -0.682822           1.059589     1   \n",
       "...                         ...               ...                ...   ...   \n",
       "18350                  0.190656          0.474657          -1.055055     0   \n",
       "18351                  0.289287          0.378646          -0.447131     0   \n",
       "18352                  0.257669         -0.710296          -0.642016     0   \n",
       "18353                  0.345446         -1.273555          -0.100993     0   \n",
       "18354                  0.385559         -1.401310           0.146249     0   \n",
       "\n",
       "       Single  \n",
       "0           0  \n",
       "1           0  \n",
       "2           1  \n",
       "3           0  \n",
       "4           1  \n",
       "...       ...  \n",
       "18350       0  \n",
       "18351       1  \n",
       "18352       1  \n",
       "18353       1  \n",
       "18354       0  \n",
       "\n",
       "[18355 rows x 23 columns]"
      ]
     },
     "execution_count": 41,
     "metadata": {},
     "output_type": "execute_result"
    }
   ],
   "source": [
    "df"
   ]
  }
 ],
 "metadata": {
  "kernelspec": {
   "display_name": "Python 3",
   "language": "python",
   "name": "python3"
  },
  "language_info": {
   "codemirror_mode": {
    "name": "ipython",
    "version": 3
   },
   "file_extension": ".py",
   "mimetype": "text/x-python",
   "name": "python",
   "nbconvert_exporter": "python",
   "pygments_lexer": "ipython3",
   "version": "3.7.12"
  },
  "papermill": {
   "default_parameters": {},
   "duration": 12.68527,
   "end_time": "2022-08-10T17:01:35.885054",
   "environment_variables": {},
   "exception": null,
   "input_path": "__notebook__.ipynb",
   "output_path": "__notebook__.ipynb",
   "parameters": {},
   "start_time": "2022-08-10T17:01:23.199784",
   "version": "2.3.4"
  }
 },
 "nbformat": 4,
 "nbformat_minor": 5
}
