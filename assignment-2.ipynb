{
 "cells": [
  {
   "cell_type": "code",
   "execution_count": 1,
   "id": "223da6e9",
   "metadata": {
    "_cell_guid": "b1076dfc-b9ad-4769-8c92-a6c4dae69d19",
    "_uuid": "8f2839f25d086af736a60e9eeb907d3b93b6e0e5",
    "execution": {
     "iopub.execute_input": "2022-08-09T09:22:38.654754Z",
     "iopub.status.busy": "2022-08-09T09:22:38.654231Z",
     "iopub.status.idle": "2022-08-09T09:22:39.846578Z",
     "shell.execute_reply": "2022-08-09T09:22:39.845045Z"
    },
    "papermill": {
     "duration": 1.20691,
     "end_time": "2022-08-09T09:22:39.850076",
     "exception": false,
     "start_time": "2022-08-09T09:22:38.643166",
     "status": "completed"
    },
    "tags": []
   },
   "outputs": [
    {
     "name": "stdout",
     "output_type": "stream",
     "text": [
      "/kaggle/input/microsoft-adventure-works-cycles-customer-data/AWCustomers.csv\n",
      "/kaggle/input/microsoft-adventure-works-cycles-customer-data/AWTest-Classification.csv\n",
      "/kaggle/input/microsoft-adventure-works-cycles-customer-data/AWSales.csv\n",
      "/kaggle/input/microsoft-adventure-works-cycles-customer-data/AWTest-Regression.csv\n"
     ]
    }
   ],
   "source": [
    "# This Python 3 environment comes with many helpful analytics libraries installed\n",
    "# It is defined by the kaggle/python Docker image: https://github.com/kaggle/docker-python\n",
    "# For example, here's several helpful packages to load\n",
    "\n",
    "import numpy as np # linear algebra\n",
    "import pandas as pd # data processing, CSV file I/O (e.g. pd.read_csv)\n",
    "from sklearn.preprocessing import MinMaxScaler\n",
    "# Input data files are available in the read-only \"../input/\" directory\n",
    "# For example, running this (by clicking run or pressing Shift+Enter) will list all files under the input directory\n",
    "\n",
    "import os\n",
    "for dirname, _, filenames in os.walk('/kaggle/input'):\n",
    "    for filename in filenames:\n",
    "        print(os.path.join(dirname, filename))\n",
    "\n",
    "# You can write up to 20GB to the current directory (/kaggle/working/) that gets preserved as output when you create a version using \"Save & Run All\" \n",
    "# You can also write temporary files to /kaggle/temp/, but they won't be saved outside of the current session"
   ]
  },
  {
   "cell_type": "code",
   "execution_count": 2,
   "id": "31dc686a",
   "metadata": {
    "execution": {
     "iopub.execute_input": "2022-08-09T09:22:39.869249Z",
     "iopub.status.busy": "2022-08-09T09:22:39.868093Z",
     "iopub.status.idle": "2022-08-09T09:22:40.030322Z",
     "shell.execute_reply": "2022-08-09T09:22:40.029049Z"
    },
    "papermill": {
     "duration": 0.174774,
     "end_time": "2022-08-09T09:22:40.033425",
     "exception": false,
     "start_time": "2022-08-09T09:22:39.858651",
     "status": "completed"
    },
    "tags": []
   },
   "outputs": [],
   "source": [
    "df_customer=pd.read_csv(\"../input/microsoft-adventure-works-cycles-customer-data/AWCustomers.csv\")\n",
    "df_sales=pd.read_csv(\"../input/microsoft-adventure-works-cycles-customer-data/AWSales.csv\")"
   ]
  },
  {
   "cell_type": "code",
   "execution_count": 3,
   "id": "6de68140",
   "metadata": {
    "execution": {
     "iopub.execute_input": "2022-08-09T09:22:40.054549Z",
     "iopub.status.busy": "2022-08-09T09:22:40.054094Z",
     "iopub.status.idle": "2022-08-09T09:22:40.067125Z",
     "shell.execute_reply": "2022-08-09T09:22:40.065747Z"
    },
    "papermill": {
     "duration": 0.02714,
     "end_time": "2022-08-09T09:22:40.069869",
     "exception": false,
     "start_time": "2022-08-09T09:22:40.042729",
     "status": "completed"
    },
    "tags": []
   },
   "outputs": [
    {
     "data": {
      "text/plain": [
       "Index(['CustomerID', 'Title', 'FirstName', 'MiddleName', 'LastName', 'Suffix',\n",
       "       'AddressLine1', 'AddressLine2', 'City', 'StateProvinceName',\n",
       "       'CountryRegionName', 'PostalCode', 'PhoneNumber', 'BirthDate',\n",
       "       'Education', 'Occupation', 'Gender', 'MaritalStatus', 'HomeOwnerFlag',\n",
       "       'NumberCarsOwned', 'NumberChildrenAtHome', 'TotalChildren',\n",
       "       'YearlyIncome', 'LastUpdated'],\n",
       "      dtype='object')"
      ]
     },
     "execution_count": 3,
     "metadata": {},
     "output_type": "execute_result"
    }
   ],
   "source": [
    "df_customer.columns"
   ]
  },
  {
   "cell_type": "code",
   "execution_count": 4,
   "id": "b76a9798",
   "metadata": {
    "execution": {
     "iopub.execute_input": "2022-08-09T09:22:40.091226Z",
     "iopub.status.busy": "2022-08-09T09:22:40.090822Z",
     "iopub.status.idle": "2022-08-09T09:22:40.100112Z",
     "shell.execute_reply": "2022-08-09T09:22:40.099064Z"
    },
    "papermill": {
     "duration": 0.022154,
     "end_time": "2022-08-09T09:22:40.102580",
     "exception": false,
     "start_time": "2022-08-09T09:22:40.080426",
     "status": "completed"
    },
    "tags": []
   },
   "outputs": [
    {
     "data": {
      "text/plain": [
       "Index(['CustomerID', 'BikeBuyer', 'AvgMonthSpend'], dtype='object')"
      ]
     },
     "execution_count": 4,
     "metadata": {},
     "output_type": "execute_result"
    }
   ],
   "source": [
    "df_sales.columns"
   ]
  },
  {
   "cell_type": "code",
   "execution_count": 5,
   "id": "f5d7dcca",
   "metadata": {
    "execution": {
     "iopub.execute_input": "2022-08-09T09:22:40.121409Z",
     "iopub.status.busy": "2022-08-09T09:22:40.120722Z",
     "iopub.status.idle": "2022-08-09T09:22:40.139370Z",
     "shell.execute_reply": "2022-08-09T09:22:40.138362Z"
    },
    "papermill": {
     "duration": 0.031007,
     "end_time": "2022-08-09T09:22:40.142009",
     "exception": false,
     "start_time": "2022-08-09T09:22:40.111002",
     "status": "completed"
    },
    "tags": []
   },
   "outputs": [],
   "source": [
    "df=pd.concat([df_customer,df_sales],axis=1)"
   ]
  },
  {
   "cell_type": "code",
   "execution_count": 6,
   "id": "47a66d87",
   "metadata": {
    "execution": {
     "iopub.execute_input": "2022-08-09T09:22:40.161660Z",
     "iopub.status.busy": "2022-08-09T09:22:40.160807Z",
     "iopub.status.idle": "2022-08-09T09:22:40.169024Z",
     "shell.execute_reply": "2022-08-09T09:22:40.167731Z"
    },
    "papermill": {
     "duration": 0.020683,
     "end_time": "2022-08-09T09:22:40.171480",
     "exception": false,
     "start_time": "2022-08-09T09:22:40.150797",
     "status": "completed"
    },
    "tags": []
   },
   "outputs": [
    {
     "data": {
      "text/plain": [
       "Index(['CustomerID', 'Title', 'FirstName', 'MiddleName', 'LastName', 'Suffix',\n",
       "       'AddressLine1', 'AddressLine2', 'City', 'StateProvinceName',\n",
       "       'CountryRegionName', 'PostalCode', 'PhoneNumber', 'BirthDate',\n",
       "       'Education', 'Occupation', 'Gender', 'MaritalStatus', 'HomeOwnerFlag',\n",
       "       'NumberCarsOwned', 'NumberChildrenAtHome', 'TotalChildren',\n",
       "       'YearlyIncome', 'LastUpdated', 'CustomerID', 'BikeBuyer',\n",
       "       'AvgMonthSpend'],\n",
       "      dtype='object')"
      ]
     },
     "execution_count": 6,
     "metadata": {},
     "output_type": "execute_result"
    }
   ],
   "source": [
    "df.columns"
   ]
  },
  {
   "cell_type": "markdown",
   "id": "ef63bfaf",
   "metadata": {
    "execution": {
     "iopub.execute_input": "2022-08-09T02:53:15.932885Z",
     "iopub.status.busy": "2022-08-09T02:53:15.931725Z",
     "iopub.status.idle": "2022-08-09T02:53:15.939873Z",
     "shell.execute_reply": "2022-08-09T02:53:15.938566Z",
     "shell.execute_reply.started": "2022-08-09T02:53:15.932830Z"
    },
    "papermill": {
     "duration": 0.00913,
     "end_time": "2022-08-09T09:22:40.189202",
     "exception": false,
     "start_time": "2022-08-09T09:22:40.180072",
     "status": "completed"
    },
    "tags": []
   },
   "source": [
    "Number of columns in the dataset is:27"
   ]
  },
  {
   "cell_type": "code",
   "execution_count": 7,
   "id": "0e747815",
   "metadata": {
    "execution": {
     "iopub.execute_input": "2022-08-09T09:22:40.211128Z",
     "iopub.status.busy": "2022-08-09T09:22:40.210031Z",
     "iopub.status.idle": "2022-08-09T09:22:40.218222Z",
     "shell.execute_reply": "2022-08-09T09:22:40.216711Z"
    },
    "papermill": {
     "duration": 0.021417,
     "end_time": "2022-08-09T09:22:40.220788",
     "exception": false,
     "start_time": "2022-08-09T09:22:40.199371",
     "status": "completed"
    },
    "tags": []
   },
   "outputs": [
    {
     "data": {
      "text/plain": [
       "27"
      ]
     },
     "execution_count": 7,
     "metadata": {},
     "output_type": "execute_result"
    }
   ],
   "source": [
    "df.shape[1]\n"
   ]
  },
  {
   "cell_type": "code",
   "execution_count": 8,
   "id": "a85545f2",
   "metadata": {
    "execution": {
     "iopub.execute_input": "2022-08-09T09:22:40.241728Z",
     "iopub.status.busy": "2022-08-09T09:22:40.241293Z",
     "iopub.status.idle": "2022-08-09T09:22:40.278791Z",
     "shell.execute_reply": "2022-08-09T09:22:40.277678Z"
    },
    "papermill": {
     "duration": 0.052009,
     "end_time": "2022-08-09T09:22:40.281943",
     "exception": false,
     "start_time": "2022-08-09T09:22:40.229934",
     "status": "completed"
    },
    "tags": []
   },
   "outputs": [],
   "source": [
    "df.drop(['CustomerID'],axis=1,inplace=True)"
   ]
  },
  {
   "cell_type": "code",
   "execution_count": 9,
   "id": "5e821688",
   "metadata": {
    "execution": {
     "iopub.execute_input": "2022-08-09T09:22:40.304225Z",
     "iopub.status.busy": "2022-08-09T09:22:40.303418Z",
     "iopub.status.idle": "2022-08-09T09:22:40.333423Z",
     "shell.execute_reply": "2022-08-09T09:22:40.332250Z"
    },
    "papermill": {
     "duration": 0.043864,
     "end_time": "2022-08-09T09:22:40.336233",
     "exception": false,
     "start_time": "2022-08-09T09:22:40.292369",
     "status": "completed"
    },
    "tags": []
   },
   "outputs": [
    {
     "data": {
      "text/html": [
       "<div>\n",
       "<style scoped>\n",
       "    .dataframe tbody tr th:only-of-type {\n",
       "        vertical-align: middle;\n",
       "    }\n",
       "\n",
       "    .dataframe tbody tr th {\n",
       "        vertical-align: top;\n",
       "    }\n",
       "\n",
       "    .dataframe thead th {\n",
       "        text-align: right;\n",
       "    }\n",
       "</style>\n",
       "<table border=\"1\" class=\"dataframe\">\n",
       "  <thead>\n",
       "    <tr style=\"text-align: right;\">\n",
       "      <th></th>\n",
       "      <th>Title</th>\n",
       "      <th>FirstName</th>\n",
       "      <th>MiddleName</th>\n",
       "      <th>LastName</th>\n",
       "      <th>Suffix</th>\n",
       "      <th>AddressLine1</th>\n",
       "      <th>AddressLine2</th>\n",
       "      <th>City</th>\n",
       "      <th>StateProvinceName</th>\n",
       "      <th>CountryRegionName</th>\n",
       "      <th>...</th>\n",
       "      <th>Gender</th>\n",
       "      <th>MaritalStatus</th>\n",
       "      <th>HomeOwnerFlag</th>\n",
       "      <th>NumberCarsOwned</th>\n",
       "      <th>NumberChildrenAtHome</th>\n",
       "      <th>TotalChildren</th>\n",
       "      <th>YearlyIncome</th>\n",
       "      <th>LastUpdated</th>\n",
       "      <th>BikeBuyer</th>\n",
       "      <th>AvgMonthSpend</th>\n",
       "    </tr>\n",
       "  </thead>\n",
       "  <tbody>\n",
       "    <tr>\n",
       "      <th>0</th>\n",
       "      <td>NaN</td>\n",
       "      <td>Chad</td>\n",
       "      <td>C</td>\n",
       "      <td>Yuan</td>\n",
       "      <td>NaN</td>\n",
       "      <td>7090 C. Mount Hood</td>\n",
       "      <td>NaN</td>\n",
       "      <td>Wollongong</td>\n",
       "      <td>New South Wales</td>\n",
       "      <td>Australia</td>\n",
       "      <td>...</td>\n",
       "      <td>M</td>\n",
       "      <td>M</td>\n",
       "      <td>1</td>\n",
       "      <td>3</td>\n",
       "      <td>0</td>\n",
       "      <td>1</td>\n",
       "      <td>81916</td>\n",
       "      <td>2017-03-06</td>\n",
       "      <td>1.0</td>\n",
       "      <td>50.97</td>\n",
       "    </tr>\n",
       "    <tr>\n",
       "      <th>1</th>\n",
       "      <td>NaN</td>\n",
       "      <td>Ryan</td>\n",
       "      <td>NaN</td>\n",
       "      <td>Perry</td>\n",
       "      <td>NaN</td>\n",
       "      <td>3651 Willow Lake Rd</td>\n",
       "      <td>NaN</td>\n",
       "      <td>Shawnee</td>\n",
       "      <td>British Columbia</td>\n",
       "      <td>Canada</td>\n",
       "      <td>...</td>\n",
       "      <td>M</td>\n",
       "      <td>M</td>\n",
       "      <td>1</td>\n",
       "      <td>2</td>\n",
       "      <td>1</td>\n",
       "      <td>2</td>\n",
       "      <td>81076</td>\n",
       "      <td>2017-03-06</td>\n",
       "      <td>1.0</td>\n",
       "      <td>53.11</td>\n",
       "    </tr>\n",
       "    <tr>\n",
       "      <th>2</th>\n",
       "      <td>NaN</td>\n",
       "      <td>Julia</td>\n",
       "      <td>NaN</td>\n",
       "      <td>Thompson</td>\n",
       "      <td>NaN</td>\n",
       "      <td>1774 Tice Valley Blvd.</td>\n",
       "      <td>NaN</td>\n",
       "      <td>West Covina</td>\n",
       "      <td>California</td>\n",
       "      <td>United States</td>\n",
       "      <td>...</td>\n",
       "      <td>F</td>\n",
       "      <td>S</td>\n",
       "      <td>0</td>\n",
       "      <td>3</td>\n",
       "      <td>0</td>\n",
       "      <td>0</td>\n",
       "      <td>86387</td>\n",
       "      <td>2017-03-06</td>\n",
       "      <td>1.0</td>\n",
       "      <td>54.08</td>\n",
       "    </tr>\n",
       "    <tr>\n",
       "      <th>3</th>\n",
       "      <td>NaN</td>\n",
       "      <td>Theodore</td>\n",
       "      <td>NaN</td>\n",
       "      <td>Gomez</td>\n",
       "      <td>NaN</td>\n",
       "      <td>2103 Baldwin Dr</td>\n",
       "      <td>NaN</td>\n",
       "      <td>Liverpool</td>\n",
       "      <td>England</td>\n",
       "      <td>United Kingdom</td>\n",
       "      <td>...</td>\n",
       "      <td>M</td>\n",
       "      <td>M</td>\n",
       "      <td>1</td>\n",
       "      <td>2</td>\n",
       "      <td>1</td>\n",
       "      <td>2</td>\n",
       "      <td>61481</td>\n",
       "      <td>2017-03-06</td>\n",
       "      <td>1.0</td>\n",
       "      <td>56.93</td>\n",
       "    </tr>\n",
       "    <tr>\n",
       "      <th>4</th>\n",
       "      <td>NaN</td>\n",
       "      <td>Marshall</td>\n",
       "      <td>J</td>\n",
       "      <td>Shan</td>\n",
       "      <td>NaN</td>\n",
       "      <td>Am Gallberg 234</td>\n",
       "      <td>NaN</td>\n",
       "      <td>Werne</td>\n",
       "      <td>Nordrhein-Westfalen</td>\n",
       "      <td>Germany</td>\n",
       "      <td>...</td>\n",
       "      <td>M</td>\n",
       "      <td>S</td>\n",
       "      <td>1</td>\n",
       "      <td>1</td>\n",
       "      <td>0</td>\n",
       "      <td>0</td>\n",
       "      <td>51804</td>\n",
       "      <td>2017-03-06</td>\n",
       "      <td>1.0</td>\n",
       "      <td>55.41</td>\n",
       "    </tr>\n",
       "  </tbody>\n",
       "</table>\n",
       "<p>5 rows × 25 columns</p>\n",
       "</div>"
      ],
      "text/plain": [
       "  Title FirstName MiddleName  LastName Suffix            AddressLine1  \\\n",
       "0   NaN      Chad          C      Yuan    NaN      7090 C. Mount Hood   \n",
       "1   NaN      Ryan        NaN     Perry    NaN     3651 Willow Lake Rd   \n",
       "2   NaN     Julia        NaN  Thompson    NaN  1774 Tice Valley Blvd.   \n",
       "3   NaN  Theodore        NaN     Gomez    NaN         2103 Baldwin Dr   \n",
       "4   NaN  Marshall          J      Shan    NaN         Am Gallberg 234   \n",
       "\n",
       "  AddressLine2         City    StateProvinceName CountryRegionName  ...  \\\n",
       "0          NaN   Wollongong      New South Wales         Australia  ...   \n",
       "1          NaN      Shawnee     British Columbia            Canada  ...   \n",
       "2          NaN  West Covina           California     United States  ...   \n",
       "3          NaN    Liverpool              England    United Kingdom  ...   \n",
       "4          NaN        Werne  Nordrhein-Westfalen           Germany  ...   \n",
       "\n",
       "  Gender MaritalStatus HomeOwnerFlag NumberCarsOwned NumberChildrenAtHome  \\\n",
       "0      M             M             1               3                    0   \n",
       "1      M             M             1               2                    1   \n",
       "2      F             S             0               3                    0   \n",
       "3      M             M             1               2                    1   \n",
       "4      M             S             1               1                    0   \n",
       "\n",
       "  TotalChildren YearlyIncome  LastUpdated  BikeBuyer  AvgMonthSpend  \n",
       "0             1        81916   2017-03-06        1.0          50.97  \n",
       "1             2        81076   2017-03-06        1.0          53.11  \n",
       "2             0        86387   2017-03-06        1.0          54.08  \n",
       "3             2        61481   2017-03-06        1.0          56.93  \n",
       "4             0        51804   2017-03-06        1.0          55.41  \n",
       "\n",
       "[5 rows x 25 columns]"
      ]
     },
     "execution_count": 9,
     "metadata": {},
     "output_type": "execute_result"
    }
   ],
   "source": [
    "df.head()"
   ]
  },
  {
   "cell_type": "code",
   "execution_count": 10,
   "id": "edee0918",
   "metadata": {
    "execution": {
     "iopub.execute_input": "2022-08-09T09:22:40.357305Z",
     "iopub.status.busy": "2022-08-09T09:22:40.356062Z",
     "iopub.status.idle": "2022-08-09T09:22:40.382903Z",
     "shell.execute_reply": "2022-08-09T09:22:40.381582Z"
    },
    "papermill": {
     "duration": 0.039993,
     "end_time": "2022-08-09T09:22:40.385605",
     "exception": false,
     "start_time": "2022-08-09T09:22:40.345612",
     "status": "completed"
    },
    "tags": []
   },
   "outputs": [
    {
     "data": {
      "text/html": [
       "<div>\n",
       "<style scoped>\n",
       "    .dataframe tbody tr th:only-of-type {\n",
       "        vertical-align: middle;\n",
       "    }\n",
       "\n",
       "    .dataframe tbody tr th {\n",
       "        vertical-align: top;\n",
       "    }\n",
       "\n",
       "    .dataframe thead th {\n",
       "        text-align: right;\n",
       "    }\n",
       "</style>\n",
       "<table border=\"1\" class=\"dataframe\">\n",
       "  <thead>\n",
       "    <tr style=\"text-align: right;\">\n",
       "      <th></th>\n",
       "      <th>Title</th>\n",
       "      <th>FirstName</th>\n",
       "      <th>MiddleName</th>\n",
       "      <th>LastName</th>\n",
       "      <th>Suffix</th>\n",
       "      <th>AddressLine1</th>\n",
       "      <th>AddressLine2</th>\n",
       "      <th>City</th>\n",
       "      <th>StateProvinceName</th>\n",
       "      <th>CountryRegionName</th>\n",
       "      <th>...</th>\n",
       "      <th>Gender</th>\n",
       "      <th>MaritalStatus</th>\n",
       "      <th>HomeOwnerFlag</th>\n",
       "      <th>NumberCarsOwned</th>\n",
       "      <th>NumberChildrenAtHome</th>\n",
       "      <th>TotalChildren</th>\n",
       "      <th>YearlyIncome</th>\n",
       "      <th>LastUpdated</th>\n",
       "      <th>BikeBuyer</th>\n",
       "      <th>AvgMonthSpend</th>\n",
       "    </tr>\n",
       "  </thead>\n",
       "  <tbody>\n",
       "    <tr>\n",
       "      <th>18356</th>\n",
       "      <td>NaN</td>\n",
       "      <td>Grace</td>\n",
       "      <td>C</td>\n",
       "      <td>Bailey</td>\n",
       "      <td>NaN</td>\n",
       "      <td>6627 Camelback Ct.</td>\n",
       "      <td>NaN</td>\n",
       "      <td>Coronado</td>\n",
       "      <td>California</td>\n",
       "      <td>United States</td>\n",
       "      <td>...</td>\n",
       "      <td>F</td>\n",
       "      <td>M</td>\n",
       "      <td>0</td>\n",
       "      <td>1</td>\n",
       "      <td>0</td>\n",
       "      <td>2</td>\n",
       "      <td>52953</td>\n",
       "      <td>2017-03-06</td>\n",
       "      <td>NaN</td>\n",
       "      <td>NaN</td>\n",
       "    </tr>\n",
       "    <tr>\n",
       "      <th>18357</th>\n",
       "      <td>NaN</td>\n",
       "      <td>Tasha</td>\n",
       "      <td>NaN</td>\n",
       "      <td>Deng</td>\n",
       "      <td>NaN</td>\n",
       "      <td>9627 Kendall Rd</td>\n",
       "      <td>NaN</td>\n",
       "      <td>Port Macquarie</td>\n",
       "      <td>New South Wales</td>\n",
       "      <td>Australia</td>\n",
       "      <td>...</td>\n",
       "      <td>F</td>\n",
       "      <td>S</td>\n",
       "      <td>0</td>\n",
       "      <td>2</td>\n",
       "      <td>0</td>\n",
       "      <td>0</td>\n",
       "      <td>60992</td>\n",
       "      <td>2017-03-06</td>\n",
       "      <td>NaN</td>\n",
       "      <td>NaN</td>\n",
       "    </tr>\n",
       "    <tr>\n",
       "      <th>18358</th>\n",
       "      <td>NaN</td>\n",
       "      <td>Jaclyn</td>\n",
       "      <td>NaN</td>\n",
       "      <td>Zhang</td>\n",
       "      <td>NaN</td>\n",
       "      <td>4364 Viera Avenue</td>\n",
       "      <td>NaN</td>\n",
       "      <td>Beaverton</td>\n",
       "      <td>Oregon</td>\n",
       "      <td>United States</td>\n",
       "      <td>...</td>\n",
       "      <td>F</td>\n",
       "      <td>S</td>\n",
       "      <td>0</td>\n",
       "      <td>2</td>\n",
       "      <td>0</td>\n",
       "      <td>0</td>\n",
       "      <td>51859</td>\n",
       "      <td>2017-03-06</td>\n",
       "      <td>NaN</td>\n",
       "      <td>NaN</td>\n",
       "    </tr>\n",
       "    <tr>\n",
       "      <th>18359</th>\n",
       "      <td>NaN</td>\n",
       "      <td>Erin</td>\n",
       "      <td>I</td>\n",
       "      <td>Reed</td>\n",
       "      <td>NaN</td>\n",
       "      <td>3866 Mt. Everest Court</td>\n",
       "      <td>NaN</td>\n",
       "      <td>Vancouver</td>\n",
       "      <td>British Columbia</td>\n",
       "      <td>Canada</td>\n",
       "      <td>...</td>\n",
       "      <td>F</td>\n",
       "      <td>S</td>\n",
       "      <td>0</td>\n",
       "      <td>0</td>\n",
       "      <td>0</td>\n",
       "      <td>0</td>\n",
       "      <td>87177</td>\n",
       "      <td>2017-03-06</td>\n",
       "      <td>NaN</td>\n",
       "      <td>NaN</td>\n",
       "    </tr>\n",
       "    <tr>\n",
       "      <th>18360</th>\n",
       "      <td>NaN</td>\n",
       "      <td>Amanda</td>\n",
       "      <td>NaN</td>\n",
       "      <td>Perry</td>\n",
       "      <td>NaN</td>\n",
       "      <td>7870 Orangewood Dr.</td>\n",
       "      <td>NaN</td>\n",
       "      <td>Grossmont</td>\n",
       "      <td>California</td>\n",
       "      <td>United States</td>\n",
       "      <td>...</td>\n",
       "      <td>F</td>\n",
       "      <td>M</td>\n",
       "      <td>1</td>\n",
       "      <td>2</td>\n",
       "      <td>0</td>\n",
       "      <td>0</td>\n",
       "      <td>136856</td>\n",
       "      <td>2017-03-06</td>\n",
       "      <td>NaN</td>\n",
       "      <td>NaN</td>\n",
       "    </tr>\n",
       "  </tbody>\n",
       "</table>\n",
       "<p>5 rows × 25 columns</p>\n",
       "</div>"
      ],
      "text/plain": [
       "      Title FirstName MiddleName LastName Suffix            AddressLine1  \\\n",
       "18356   NaN     Grace          C   Bailey    NaN      6627 Camelback Ct.   \n",
       "18357   NaN     Tasha        NaN     Deng    NaN         9627 Kendall Rd   \n",
       "18358   NaN    Jaclyn        NaN    Zhang    NaN       4364 Viera Avenue   \n",
       "18359   NaN      Erin          I     Reed    NaN  3866 Mt. Everest Court   \n",
       "18360   NaN    Amanda        NaN    Perry    NaN     7870 Orangewood Dr.   \n",
       "\n",
       "      AddressLine2            City StateProvinceName CountryRegionName  ...  \\\n",
       "18356          NaN        Coronado        California     United States  ...   \n",
       "18357          NaN  Port Macquarie   New South Wales         Australia  ...   \n",
       "18358          NaN       Beaverton            Oregon     United States  ...   \n",
       "18359          NaN       Vancouver  British Columbia            Canada  ...   \n",
       "18360          NaN       Grossmont        California     United States  ...   \n",
       "\n",
       "      Gender MaritalStatus HomeOwnerFlag NumberCarsOwned NumberChildrenAtHome  \\\n",
       "18356      F             M             0               1                    0   \n",
       "18357      F             S             0               2                    0   \n",
       "18358      F             S             0               2                    0   \n",
       "18359      F             S             0               0                    0   \n",
       "18360      F             M             1               2                    0   \n",
       "\n",
       "      TotalChildren YearlyIncome  LastUpdated  BikeBuyer  AvgMonthSpend  \n",
       "18356             2        52953   2017-03-06        NaN            NaN  \n",
       "18357             0        60992   2017-03-06        NaN            NaN  \n",
       "18358             0        51859   2017-03-06        NaN            NaN  \n",
       "18359             0        87177   2017-03-06        NaN            NaN  \n",
       "18360             0       136856   2017-03-06        NaN            NaN  \n",
       "\n",
       "[5 rows x 25 columns]"
      ]
     },
     "execution_count": 10,
     "metadata": {},
     "output_type": "execute_result"
    }
   ],
   "source": [
    "df.tail()"
   ]
  },
  {
   "cell_type": "code",
   "execution_count": 11,
   "id": "ca99f5ee",
   "metadata": {
    "execution": {
     "iopub.execute_input": "2022-08-09T09:22:40.408654Z",
     "iopub.status.busy": "2022-08-09T09:22:40.407814Z",
     "iopub.status.idle": "2022-08-09T09:22:40.421014Z",
     "shell.execute_reply": "2022-08-09T09:22:40.419503Z"
    },
    "papermill": {
     "duration": 0.028264,
     "end_time": "2022-08-09T09:22:40.423920",
     "exception": false,
     "start_time": "2022-08-09T09:22:40.395656",
     "status": "completed"
    },
    "tags": []
   },
   "outputs": [],
   "source": [
    "df.drop(['Title','FirstName','MiddleName','LastName','Suffix','AddressLine2'],axis=1,inplace=True)"
   ]
  },
  {
   "cell_type": "code",
   "execution_count": 12,
   "id": "03d55871",
   "metadata": {
    "execution": {
     "iopub.execute_input": "2022-08-09T09:22:40.445372Z",
     "iopub.status.busy": "2022-08-09T09:22:40.444598Z",
     "iopub.status.idle": "2022-08-09T09:22:40.455769Z",
     "shell.execute_reply": "2022-08-09T09:22:40.454591Z"
    },
    "papermill": {
     "duration": 0.025054,
     "end_time": "2022-08-09T09:22:40.458236",
     "exception": false,
     "start_time": "2022-08-09T09:22:40.433182",
     "status": "completed"
    },
    "tags": []
   },
   "outputs": [],
   "source": [
    "df.drop(['PhoneNumber'],axis=1,inplace=True)"
   ]
  },
  {
   "cell_type": "code",
   "execution_count": 13,
   "id": "493d40e6",
   "metadata": {
    "execution": {
     "iopub.execute_input": "2022-08-09T09:22:40.479827Z",
     "iopub.status.busy": "2022-08-09T09:22:40.479023Z",
     "iopub.status.idle": "2022-08-09T09:22:40.489675Z",
     "shell.execute_reply": "2022-08-09T09:22:40.488082Z"
    },
    "papermill": {
     "duration": 0.024616,
     "end_time": "2022-08-09T09:22:40.492750",
     "exception": false,
     "start_time": "2022-08-09T09:22:40.468134",
     "status": "completed"
    },
    "tags": []
   },
   "outputs": [],
   "source": [
    "df.drop(['PostalCode'],axis=1,inplace=True)"
   ]
  },
  {
   "cell_type": "code",
   "execution_count": 14,
   "id": "8804da8b",
   "metadata": {
    "execution": {
     "iopub.execute_input": "2022-08-09T09:22:40.515216Z",
     "iopub.status.busy": "2022-08-09T09:22:40.514104Z",
     "iopub.status.idle": "2022-08-09T09:22:40.520984Z",
     "shell.execute_reply": "2022-08-09T09:22:40.520014Z"
    },
    "papermill": {
     "duration": 0.021233,
     "end_time": "2022-08-09T09:22:40.523844",
     "exception": false,
     "start_time": "2022-08-09T09:22:40.502611",
     "status": "completed"
    },
    "tags": []
   },
   "outputs": [
    {
     "data": {
      "text/plain": [
       "(17,)"
      ]
     },
     "execution_count": 14,
     "metadata": {},
     "output_type": "execute_result"
    }
   ],
   "source": [
    "df.columns.shape"
   ]
  },
  {
   "cell_type": "code",
   "execution_count": 15,
   "id": "e654205c",
   "metadata": {
    "execution": {
     "iopub.execute_input": "2022-08-09T09:22:40.545843Z",
     "iopub.status.busy": "2022-08-09T09:22:40.545081Z",
     "iopub.status.idle": "2022-08-09T09:22:40.587402Z",
     "shell.execute_reply": "2022-08-09T09:22:40.586439Z"
    },
    "papermill": {
     "duration": 0.05747,
     "end_time": "2022-08-09T09:22:40.590834",
     "exception": false,
     "start_time": "2022-08-09T09:22:40.533364",
     "status": "completed"
    },
    "tags": []
   },
   "outputs": [
    {
     "data": {
      "text/html": [
       "<div>\n",
       "<style scoped>\n",
       "    .dataframe tbody tr th:only-of-type {\n",
       "        vertical-align: middle;\n",
       "    }\n",
       "\n",
       "    .dataframe tbody tr th {\n",
       "        vertical-align: top;\n",
       "    }\n",
       "\n",
       "    .dataframe thead th {\n",
       "        text-align: right;\n",
       "    }\n",
       "</style>\n",
       "<table border=\"1\" class=\"dataframe\">\n",
       "  <thead>\n",
       "    <tr style=\"text-align: right;\">\n",
       "      <th></th>\n",
       "      <th>HomeOwnerFlag</th>\n",
       "      <th>NumberCarsOwned</th>\n",
       "      <th>NumberChildrenAtHome</th>\n",
       "      <th>TotalChildren</th>\n",
       "      <th>YearlyIncome</th>\n",
       "      <th>BikeBuyer</th>\n",
       "      <th>AvgMonthSpend</th>\n",
       "    </tr>\n",
       "  </thead>\n",
       "  <tbody>\n",
       "    <tr>\n",
       "      <th>count</th>\n",
       "      <td>18361.000000</td>\n",
       "      <td>18361.000000</td>\n",
       "      <td>18361.000000</td>\n",
       "      <td>18361.000000</td>\n",
       "      <td>18361.000000</td>\n",
       "      <td>18355.00000</td>\n",
       "      <td>18355.000000</td>\n",
       "    </tr>\n",
       "    <tr>\n",
       "      <th>mean</th>\n",
       "      <td>0.610588</td>\n",
       "      <td>1.270301</td>\n",
       "      <td>0.338162</td>\n",
       "      <td>0.850389</td>\n",
       "      <td>72754.779642</td>\n",
       "      <td>0.55173</td>\n",
       "      <td>51.767207</td>\n",
       "    </tr>\n",
       "    <tr>\n",
       "      <th>std</th>\n",
       "      <td>0.487630</td>\n",
       "      <td>0.913989</td>\n",
       "      <td>0.568957</td>\n",
       "      <td>0.927315</td>\n",
       "      <td>30686.014313</td>\n",
       "      <td>0.49733</td>\n",
       "      <td>3.438024</td>\n",
       "    </tr>\n",
       "    <tr>\n",
       "      <th>min</th>\n",
       "      <td>0.000000</td>\n",
       "      <td>0.000000</td>\n",
       "      <td>0.000000</td>\n",
       "      <td>0.000000</td>\n",
       "      <td>25435.000000</td>\n",
       "      <td>0.00000</td>\n",
       "      <td>44.100000</td>\n",
       "    </tr>\n",
       "    <tr>\n",
       "      <th>25%</th>\n",
       "      <td>0.000000</td>\n",
       "      <td>1.000000</td>\n",
       "      <td>0.000000</td>\n",
       "      <td>0.000000</td>\n",
       "      <td>53312.000000</td>\n",
       "      <td>0.00000</td>\n",
       "      <td>49.410000</td>\n",
       "    </tr>\n",
       "    <tr>\n",
       "      <th>50%</th>\n",
       "      <td>1.000000</td>\n",
       "      <td>1.000000</td>\n",
       "      <td>0.000000</td>\n",
       "      <td>0.000000</td>\n",
       "      <td>61851.000000</td>\n",
       "      <td>1.00000</td>\n",
       "      <td>51.420000</td>\n",
       "    </tr>\n",
       "    <tr>\n",
       "      <th>75%</th>\n",
       "      <td>1.000000</td>\n",
       "      <td>2.000000</td>\n",
       "      <td>1.000000</td>\n",
       "      <td>2.000000</td>\n",
       "      <td>87410.000000</td>\n",
       "      <td>1.00000</td>\n",
       "      <td>53.600000</td>\n",
       "    </tr>\n",
       "    <tr>\n",
       "      <th>max</th>\n",
       "      <td>1.000000</td>\n",
       "      <td>5.000000</td>\n",
       "      <td>3.000000</td>\n",
       "      <td>3.000000</td>\n",
       "      <td>139115.000000</td>\n",
       "      <td>1.00000</td>\n",
       "      <td>65.290000</td>\n",
       "    </tr>\n",
       "  </tbody>\n",
       "</table>\n",
       "</div>"
      ],
      "text/plain": [
       "       HomeOwnerFlag  NumberCarsOwned  NumberChildrenAtHome  TotalChildren  \\\n",
       "count   18361.000000     18361.000000          18361.000000   18361.000000   \n",
       "mean        0.610588         1.270301              0.338162       0.850389   \n",
       "std         0.487630         0.913989              0.568957       0.927315   \n",
       "min         0.000000         0.000000              0.000000       0.000000   \n",
       "25%         0.000000         1.000000              0.000000       0.000000   \n",
       "50%         1.000000         1.000000              0.000000       0.000000   \n",
       "75%         1.000000         2.000000              1.000000       2.000000   \n",
       "max         1.000000         5.000000              3.000000       3.000000   \n",
       "\n",
       "        YearlyIncome    BikeBuyer  AvgMonthSpend  \n",
       "count   18361.000000  18355.00000   18355.000000  \n",
       "mean    72754.779642      0.55173      51.767207  \n",
       "std     30686.014313      0.49733       3.438024  \n",
       "min     25435.000000      0.00000      44.100000  \n",
       "25%     53312.000000      0.00000      49.410000  \n",
       "50%     61851.000000      1.00000      51.420000  \n",
       "75%     87410.000000      1.00000      53.600000  \n",
       "max    139115.000000      1.00000      65.290000  "
      ]
     },
     "execution_count": 15,
     "metadata": {},
     "output_type": "execute_result"
    }
   ],
   "source": [
    "df.describe()"
   ]
  },
  {
   "cell_type": "code",
   "execution_count": 16,
   "id": "5cd50cfb",
   "metadata": {
    "execution": {
     "iopub.execute_input": "2022-08-09T09:22:40.615554Z",
     "iopub.status.busy": "2022-08-09T09:22:40.614730Z",
     "iopub.status.idle": "2022-08-09T09:22:40.644363Z",
     "shell.execute_reply": "2022-08-09T09:22:40.642113Z"
    },
    "papermill": {
     "duration": 0.04712,
     "end_time": "2022-08-09T09:22:40.648553",
     "exception": false,
     "start_time": "2022-08-09T09:22:40.601433",
     "status": "completed"
    },
    "tags": []
   },
   "outputs": [
    {
     "name": "stdout",
     "output_type": "stream",
     "text": [
      "<class 'pandas.core.frame.DataFrame'>\n",
      "RangeIndex: 18361 entries, 0 to 18360\n",
      "Data columns (total 17 columns):\n",
      " #   Column                Non-Null Count  Dtype  \n",
      "---  ------                --------------  -----  \n",
      " 0   AddressLine1          18361 non-null  object \n",
      " 1   City                  18361 non-null  object \n",
      " 2   StateProvinceName     18361 non-null  object \n",
      " 3   CountryRegionName     18361 non-null  object \n",
      " 4   BirthDate             18361 non-null  object \n",
      " 5   Education             18361 non-null  object \n",
      " 6   Occupation            18361 non-null  object \n",
      " 7   Gender                18361 non-null  object \n",
      " 8   MaritalStatus         18361 non-null  object \n",
      " 9   HomeOwnerFlag         18361 non-null  int64  \n",
      " 10  NumberCarsOwned       18361 non-null  int64  \n",
      " 11  NumberChildrenAtHome  18361 non-null  int64  \n",
      " 12  TotalChildren         18361 non-null  int64  \n",
      " 13  YearlyIncome          18361 non-null  int64  \n",
      " 14  LastUpdated           18361 non-null  object \n",
      " 15  BikeBuyer             18355 non-null  float64\n",
      " 16  AvgMonthSpend         18355 non-null  float64\n",
      "dtypes: float64(2), int64(5), object(10)\n",
      "memory usage: 2.4+ MB\n"
     ]
    }
   ],
   "source": [
    "df.info()"
   ]
  },
  {
   "cell_type": "code",
   "execution_count": 17,
   "id": "7acdd64e",
   "metadata": {
    "execution": {
     "iopub.execute_input": "2022-08-09T09:22:40.672409Z",
     "iopub.status.busy": "2022-08-09T09:22:40.671232Z",
     "iopub.status.idle": "2022-08-09T09:22:40.686552Z",
     "shell.execute_reply": "2022-08-09T09:22:40.684882Z"
    },
    "papermill": {
     "duration": 0.031284,
     "end_time": "2022-08-09T09:22:40.689846",
     "exception": false,
     "start_time": "2022-08-09T09:22:40.658562",
     "status": "completed"
    },
    "tags": []
   },
   "outputs": [],
   "source": [
    "df.BirthDate=pd.to_datetime(df.BirthDate)\n"
   ]
  },
  {
   "cell_type": "code",
   "execution_count": 18,
   "id": "c383a86f",
   "metadata": {
    "execution": {
     "iopub.execute_input": "2022-08-09T09:22:40.715247Z",
     "iopub.status.busy": "2022-08-09T09:22:40.714111Z",
     "iopub.status.idle": "2022-08-09T09:22:40.724263Z",
     "shell.execute_reply": "2022-08-09T09:22:40.722961Z"
    },
    "papermill": {
     "duration": 0.026102,
     "end_time": "2022-08-09T09:22:40.726949",
     "exception": false,
     "start_time": "2022-08-09T09:22:40.700847",
     "status": "completed"
    },
    "tags": []
   },
   "outputs": [
    {
     "data": {
      "text/plain": [
       "0       1987-11-13\n",
       "1       1972-07-21\n",
       "2       1985-11-09\n",
       "3       1977-10-18\n",
       "4       1975-02-05\n",
       "           ...    \n",
       "18356   1990-11-11\n",
       "18357   1992-10-13\n",
       "18358   1983-11-24\n",
       "18359   1995-06-15\n",
       "18360   1986-03-26\n",
       "Name: BirthDate, Length: 18361, dtype: datetime64[ns]"
      ]
     },
     "execution_count": 18,
     "metadata": {},
     "output_type": "execute_result"
    }
   ],
   "source": [
    "df.BirthDate"
   ]
  },
  {
   "cell_type": "code",
   "execution_count": 19,
   "id": "9717d30f",
   "metadata": {
    "execution": {
     "iopub.execute_input": "2022-08-09T09:22:40.750754Z",
     "iopub.status.busy": "2022-08-09T09:22:40.749353Z",
     "iopub.status.idle": "2022-08-09T09:22:40.762578Z",
     "shell.execute_reply": "2022-08-09T09:22:40.761577Z"
    },
    "papermill": {
     "duration": 0.02748,
     "end_time": "2022-08-09T09:22:40.765208",
     "exception": false,
     "start_time": "2022-08-09T09:22:40.737728",
     "status": "completed"
    },
    "tags": []
   },
   "outputs": [],
   "source": [
    "df.LastUpdated=pd.to_datetime(df.LastUpdated)"
   ]
  },
  {
   "cell_type": "code",
   "execution_count": 20,
   "id": "4c009b3b",
   "metadata": {
    "execution": {
     "iopub.execute_input": "2022-08-09T09:22:40.788498Z",
     "iopub.status.busy": "2022-08-09T09:22:40.787660Z",
     "iopub.status.idle": "2022-08-09T09:22:40.810289Z",
     "shell.execute_reply": "2022-08-09T09:22:40.809019Z"
    },
    "papermill": {
     "duration": 0.037412,
     "end_time": "2022-08-09T09:22:40.812844",
     "exception": false,
     "start_time": "2022-08-09T09:22:40.775432",
     "status": "completed"
    },
    "tags": []
   },
   "outputs": [
    {
     "name": "stdout",
     "output_type": "stream",
     "text": [
      "<class 'pandas.core.frame.DataFrame'>\n",
      "RangeIndex: 18361 entries, 0 to 18360\n",
      "Data columns (total 17 columns):\n",
      " #   Column                Non-Null Count  Dtype         \n",
      "---  ------                --------------  -----         \n",
      " 0   AddressLine1          18361 non-null  object        \n",
      " 1   City                  18361 non-null  object        \n",
      " 2   StateProvinceName     18361 non-null  object        \n",
      " 3   CountryRegionName     18361 non-null  object        \n",
      " 4   BirthDate             18361 non-null  datetime64[ns]\n",
      " 5   Education             18361 non-null  object        \n",
      " 6   Occupation            18361 non-null  object        \n",
      " 7   Gender                18361 non-null  object        \n",
      " 8   MaritalStatus         18361 non-null  object        \n",
      " 9   HomeOwnerFlag         18361 non-null  int64         \n",
      " 10  NumberCarsOwned       18361 non-null  int64         \n",
      " 11  NumberChildrenAtHome  18361 non-null  int64         \n",
      " 12  TotalChildren         18361 non-null  int64         \n",
      " 13  YearlyIncome          18361 non-null  int64         \n",
      " 14  LastUpdated           18361 non-null  datetime64[ns]\n",
      " 15  BikeBuyer             18355 non-null  float64       \n",
      " 16  AvgMonthSpend         18355 non-null  float64       \n",
      "dtypes: datetime64[ns](2), float64(2), int64(5), object(8)\n",
      "memory usage: 2.4+ MB\n"
     ]
    }
   ],
   "source": [
    "df.info()"
   ]
  },
  {
   "cell_type": "code",
   "execution_count": 21,
   "id": "883dcc52",
   "metadata": {
    "execution": {
     "iopub.execute_input": "2022-08-09T09:22:40.837275Z",
     "iopub.status.busy": "2022-08-09T09:22:40.836288Z",
     "iopub.status.idle": "2022-08-09T09:22:40.843598Z",
     "shell.execute_reply": "2022-08-09T09:22:40.842616Z"
    },
    "papermill": {
     "duration": 0.022299,
     "end_time": "2022-08-09T09:22:40.846065",
     "exception": false,
     "start_time": "2022-08-09T09:22:40.823766",
     "status": "completed"
    },
    "tags": []
   },
   "outputs": [],
   "source": [
    "var_cat=[]\n",
    "var_num=[]\n",
    "for c in df.columns:\n",
    "    if df[c].dtype=='object':\n",
    "        var_cat.append(c)\n",
    "    if (df[c].dtype=='int64'or df[c].dtype=='float64'):\n",
    "         var_num.append(c)\n",
    "            \n",
    "        \n",
    " \n",
    "    "
   ]
  },
  {
   "cell_type": "code",
   "execution_count": 22,
   "id": "33247158",
   "metadata": {
    "execution": {
     "iopub.execute_input": "2022-08-09T09:22:40.869096Z",
     "iopub.status.busy": "2022-08-09T09:22:40.868415Z",
     "iopub.status.idle": "2022-08-09T09:22:40.874447Z",
     "shell.execute_reply": "2022-08-09T09:22:40.873362Z"
    },
    "papermill": {
     "duration": 0.02078,
     "end_time": "2022-08-09T09:22:40.876979",
     "exception": false,
     "start_time": "2022-08-09T09:22:40.856199",
     "status": "completed"
    },
    "tags": []
   },
   "outputs": [
    {
     "name": "stdout",
     "output_type": "stream",
     "text": [
      "Categorical Variables:  ['AddressLine1', 'City', 'StateProvinceName', 'CountryRegionName', 'Education', 'Occupation', 'Gender', 'MaritalStatus']\n"
     ]
    }
   ],
   "source": [
    "print(\"Categorical Variables: \",var_cat)\n"
   ]
  },
  {
   "cell_type": "code",
   "execution_count": 23,
   "id": "0928f917",
   "metadata": {
    "execution": {
     "iopub.execute_input": "2022-08-09T09:22:40.903147Z",
     "iopub.status.busy": "2022-08-09T09:22:40.902403Z",
     "iopub.status.idle": "2022-08-09T09:22:40.924103Z",
     "shell.execute_reply": "2022-08-09T09:22:40.922916Z"
    },
    "papermill": {
     "duration": 0.037894,
     "end_time": "2022-08-09T09:22:40.926997",
     "exception": false,
     "start_time": "2022-08-09T09:22:40.889103",
     "status": "completed"
    },
    "tags": []
   },
   "outputs": [],
   "source": [
    "cat_ordinal=[]\n",
    "cat_nominal=[]\n",
    "for c in var_cat:\n",
    "    if (df[c].nunique()) >5:\n",
    "        cat_nominal.append(c)\n",
    "    else:\n",
    "        cat_ordinal.append(c)\n"
   ]
  },
  {
   "cell_type": "code",
   "execution_count": 24,
   "id": "006ae344",
   "metadata": {
    "execution": {
     "iopub.execute_input": "2022-08-09T09:22:40.951366Z",
     "iopub.status.busy": "2022-08-09T09:22:40.950593Z",
     "iopub.status.idle": "2022-08-09T09:22:40.958010Z",
     "shell.execute_reply": "2022-08-09T09:22:40.956813Z"
    },
    "papermill": {
     "duration": 0.022712,
     "end_time": "2022-08-09T09:22:40.960401",
     "exception": false,
     "start_time": "2022-08-09T09:22:40.937689",
     "status": "completed"
    },
    "tags": []
   },
   "outputs": [
    {
     "data": {
      "text/plain": [
       "['AddressLine1', 'City', 'StateProvinceName', 'CountryRegionName']"
      ]
     },
     "execution_count": 24,
     "metadata": {},
     "output_type": "execute_result"
    }
   ],
   "source": [
    "cat_nominal\n"
   ]
  },
  {
   "cell_type": "code",
   "execution_count": 25,
   "id": "5d23eced",
   "metadata": {
    "execution": {
     "iopub.execute_input": "2022-08-09T09:22:40.985205Z",
     "iopub.status.busy": "2022-08-09T09:22:40.984523Z",
     "iopub.status.idle": "2022-08-09T09:22:40.992191Z",
     "shell.execute_reply": "2022-08-09T09:22:40.990929Z"
    },
    "papermill": {
     "duration": 0.022792,
     "end_time": "2022-08-09T09:22:40.994544",
     "exception": false,
     "start_time": "2022-08-09T09:22:40.971752",
     "status": "completed"
    },
    "tags": []
   },
   "outputs": [
    {
     "data": {
      "text/plain": [
       "['Education', 'Occupation', 'Gender', 'MaritalStatus']"
      ]
     },
     "execution_count": 25,
     "metadata": {},
     "output_type": "execute_result"
    }
   ],
   "source": [
    "cat_ordinal"
   ]
  },
  {
   "cell_type": "code",
   "execution_count": 26,
   "id": "b496577f",
   "metadata": {
    "execution": {
     "iopub.execute_input": "2022-08-09T09:22:41.018825Z",
     "iopub.status.busy": "2022-08-09T09:22:41.018124Z",
     "iopub.status.idle": "2022-08-09T09:22:41.031532Z",
     "shell.execute_reply": "2022-08-09T09:22:41.029736Z"
    },
    "papermill": {
     "duration": 0.028921,
     "end_time": "2022-08-09T09:22:41.034670",
     "exception": false,
     "start_time": "2022-08-09T09:22:41.005749",
     "status": "completed"
    },
    "tags": []
   },
   "outputs": [],
   "source": [
    "num_discrete=[]\n",
    "num_continuous=[]\n",
    "for c in var_num:\n",
    "    if (df[c].nunique()) >10:\n",
    "        num_continuous.append(c)\n",
    "    else:\n",
    "        num_discrete.append(c)"
   ]
  },
  {
   "cell_type": "code",
   "execution_count": 27,
   "id": "a37569bc",
   "metadata": {
    "execution": {
     "iopub.execute_input": "2022-08-09T09:22:41.059666Z",
     "iopub.status.busy": "2022-08-09T09:22:41.059220Z",
     "iopub.status.idle": "2022-08-09T09:22:41.067149Z",
     "shell.execute_reply": "2022-08-09T09:22:41.065417Z"
    },
    "papermill": {
     "duration": 0.023981,
     "end_time": "2022-08-09T09:22:41.071182",
     "exception": false,
     "start_time": "2022-08-09T09:22:41.047201",
     "status": "completed"
    },
    "tags": []
   },
   "outputs": [
    {
     "data": {
      "text/plain": [
       "['HomeOwnerFlag',\n",
       " 'NumberCarsOwned',\n",
       " 'NumberChildrenAtHome',\n",
       " 'TotalChildren',\n",
       " 'BikeBuyer']"
      ]
     },
     "execution_count": 27,
     "metadata": {},
     "output_type": "execute_result"
    }
   ],
   "source": [
    "num_discrete"
   ]
  },
  {
   "cell_type": "code",
   "execution_count": 28,
   "id": "4cd2b2bd",
   "metadata": {
    "execution": {
     "iopub.execute_input": "2022-08-09T09:22:41.097116Z",
     "iopub.status.busy": "2022-08-09T09:22:41.096236Z",
     "iopub.status.idle": "2022-08-09T09:22:41.104873Z",
     "shell.execute_reply": "2022-08-09T09:22:41.103867Z"
    },
    "papermill": {
     "duration": 0.024295,
     "end_time": "2022-08-09T09:22:41.107572",
     "exception": false,
     "start_time": "2022-08-09T09:22:41.083277",
     "status": "completed"
    },
    "tags": []
   },
   "outputs": [
    {
     "data": {
      "text/plain": [
       "['YearlyIncome', 'AvgMonthSpend']"
      ]
     },
     "execution_count": 28,
     "metadata": {},
     "output_type": "execute_result"
    }
   ],
   "source": [
    "num_continuous\n"
   ]
  },
  {
   "cell_type": "code",
   "execution_count": null,
   "id": "fd904dca",
   "metadata": {
    "papermill": {
     "duration": 0.01342,
     "end_time": "2022-08-09T09:22:41.133314",
     "exception": false,
     "start_time": "2022-08-09T09:22:41.119894",
     "status": "completed"
    },
    "tags": []
   },
   "outputs": [],
   "source": []
  },
  {
   "cell_type": "markdown",
   "id": "877ef4da",
   "metadata": {
    "papermill": {
     "duration": 0.010819,
     "end_time": "2022-08-09T09:22:41.156246",
     "exception": false,
     "start_time": "2022-08-09T09:22:41.145427",
     "status": "completed"
    },
    "tags": []
   },
   "source": [
    "BirthDate and Last Updated are datetime features"
   ]
  },
  {
   "cell_type": "code",
   "execution_count": 29,
   "id": "aacb2b9d",
   "metadata": {
    "execution": {
     "iopub.execute_input": "2022-08-09T09:22:41.181029Z",
     "iopub.status.busy": "2022-08-09T09:22:41.179733Z",
     "iopub.status.idle": "2022-08-09T09:22:41.187680Z",
     "shell.execute_reply": "2022-08-09T09:22:41.186289Z"
    },
    "papermill": {
     "duration": 0.023407,
     "end_time": "2022-08-09T09:22:41.190407",
     "exception": false,
     "start_time": "2022-08-09T09:22:41.167000",
     "status": "completed"
    },
    "tags": []
   },
   "outputs": [
    {
     "data": {
      "text/plain": [
       "(18361, 17)"
      ]
     },
     "execution_count": 29,
     "metadata": {},
     "output_type": "execute_result"
    }
   ],
   "source": [
    "df.shape"
   ]
  },
  {
   "cell_type": "code",
   "execution_count": 30,
   "id": "d26ef361",
   "metadata": {
    "execution": {
     "iopub.execute_input": "2022-08-09T09:22:41.218701Z",
     "iopub.status.busy": "2022-08-09T09:22:41.217459Z",
     "iopub.status.idle": "2022-08-09T09:22:41.236848Z",
     "shell.execute_reply": "2022-08-09T09:22:41.235546Z"
    },
    "papermill": {
     "duration": 0.038577,
     "end_time": "2022-08-09T09:22:41.241509",
     "exception": false,
     "start_time": "2022-08-09T09:22:41.202932",
     "status": "completed"
    },
    "tags": []
   },
   "outputs": [
    {
     "data": {
      "text/plain": [
       "AddressLine1            0\n",
       "City                    0\n",
       "StateProvinceName       0\n",
       "CountryRegionName       0\n",
       "BirthDate               0\n",
       "Education               0\n",
       "Occupation              0\n",
       "Gender                  0\n",
       "MaritalStatus           0\n",
       "HomeOwnerFlag           0\n",
       "NumberCarsOwned         0\n",
       "NumberChildrenAtHome    0\n",
       "TotalChildren           0\n",
       "YearlyIncome            0\n",
       "LastUpdated             0\n",
       "BikeBuyer               6\n",
       "AvgMonthSpend           6\n",
       "dtype: int64"
      ]
     },
     "execution_count": 30,
     "metadata": {},
     "output_type": "execute_result"
    }
   ],
   "source": [
    "df.isnull().sum()"
   ]
  }
 ],
 "metadata": {
  "kernelspec": {
   "display_name": "Python 3",
   "language": "python",
   "name": "python3"
  },
  "language_info": {
   "codemirror_mode": {
    "name": "ipython",
    "version": 3
   },
   "file_extension": ".py",
   "mimetype": "text/x-python",
   "name": "python",
   "nbconvert_exporter": "python",
   "pygments_lexer": "ipython3",
   "version": "3.7.12"
  },
  "papermill": {
   "default_parameters": {},
   "duration": 13.984333,
   "end_time": "2022-08-09T09:22:41.977324",
   "environment_variables": {},
   "exception": null,
   "input_path": "__notebook__.ipynb",
   "output_path": "__notebook__.ipynb",
   "parameters": {},
   "start_time": "2022-08-09T09:22:27.992991",
   "version": "2.3.4"
  }
 },
 "nbformat": 4,
 "nbformat_minor": 5
}
